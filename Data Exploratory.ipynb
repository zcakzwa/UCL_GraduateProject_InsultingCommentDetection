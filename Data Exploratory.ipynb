{
 "cells": [
  {
   "cell_type": "markdown",
   "metadata": {
    "collapsed": false
   },
   "source": [
    "# Environment Setup"
   ]
  },
  {
   "cell_type": "code",
   "execution_count": 2,
   "metadata": {
    "collapsed": false
   },
   "outputs": [],
   "source": [
    "from config import *\n",
    "\n",
    "import time\n",
    "import numpy as np\n",
    "import pandas as pd\n",
    "#pd.options.display.max_columns = None\n",
    "#pd.options.display.mpl_style = 'default'\n",
    "\n",
    "import re\n",
    "import os\n",
    "import sys\n",
    "import matplotlib.pyplot as plt\n",
    "%matplotlib inline\n",
    "import seaborn as sns\n",
    "\n",
    "from nltk.stem.snowball import SnowballStemmer\n",
    "\n",
    "stemmer = SnowballStemmer('english')"
   ]
  },
  {
   "cell_type": "markdown",
   "metadata": {},
   "source": [
    "## 1. Import raw data"
   ]
  },
  {
   "cell_type": "code",
   "execution_count": 3,
   "metadata": {
    "collapsed": false
   },
   "outputs": [],
   "source": [
    "df_train = pd.read_csv(DATA_DIR + '/train.csv', encoding=\"ISO-8859-1\")\n",
    "df_test = pd.read_csv(DATA_DIR + '/test_with_solutions.csv', encoding=\"ISO-8859-1\")\n",
    "df_val = pd.read_csv(DATA_DIR + '/impermium_verification_labels.csv', encoding=\"ISO-8859-1\")\n",
    "#df_train = pd.concat((df_train, df_test), axis=0, ignore_index=True)"
   ]
  },
  {
   "cell_type": "code",
   "execution_count": 4,
   "metadata": {
    "collapsed": false
   },
   "outputs": [],
   "source": [
    "def parser(text):\n",
    "    # encode editor\n",
    "    text = re.sub(r'\\\\\\\\', r'\\\\', text)\n",
    "    text = re.sub(r'\\\\\\\\', r'\\\\', text)\n",
    "    # remove non-break symbol\n",
    "    text = re.sub(r'\\\\x\\w{2,2}', ' ', text)\n",
    "    text = re.sub(r'\\\\u\\w{4,4}', ' ', text)\n",
    "    text = text.replace(\"\\\\n\",\" \")         \n",
    "    text = text.replace(\"\\\\t\",\" \")         \n",
    "    text = text.replace(\"\\\\xa0\",\" \") \n",
    "    text = text.replace(\"\\\\xc2\",\" \") \n",
    "    \n",
    "    # remove change line symbol\n",
    "    text = text.replace('\\\\n\\\\n','. ')\n",
    "    \n",
    "    # Grammer\n",
    "    text = text.replace(\"'ll\", \" will\")\n",
    "    text = text.replace(\"'LL\", \" WILL\")\n",
    "    text = text.replace(\"'d\", \" would\")\n",
    "    text = text.replace(\"'D\", \" WOULD\")\n",
    "    text = text.replace(\"n't\", \"nt\")\n",
    "    text = text.replace(\"N'T\", \"NT\")\n",
    "    text = text.replace(\"won't\", \"will not\") \n",
    "    text = text.replace(\"can't\", \"cannot\")\n",
    "    text = text.replace(\"i'm\", \"i am\") \n",
    "    text = text.replace(\" im \", \" i am \") \n",
    "    text = text.replace(\"ain't\", \"is not\") \n",
    "    text = text.replace(\"'ve\", \" have\") \n",
    "    text = text.replace(\"'s\", \" is\") \n",
    "    text = text.replace(\"'re\", \" are\") \n",
    "    \n",
    "    text = text.replace(\" u \",\" you \") \n",
    "    text = text.replace(\" em \",\" them \")\n",
    "    text = text.replace(\" da \",\" the \") \n",
    "    text = text.replace(\" yo \",\" you \")\n",
    "    text = text.replace(\" ur \",\" you \")\n",
    "                    \n",
    "    # Format whitespaces\n",
    "    text = text.replace('\"', ' ')\n",
    "    text = text.replace('\\'', ' ')\n",
    "    text = text.replace('_', ' ')\n",
    "    text = text.replace('-', ' ')\n",
    "    text = text.replace('\\n', ' ')\n",
    "    text = re.sub(' +',' ', text)\n",
    "    \n",
    "    # Convert words consisted by more than 3 symbols to special curse token \"_CR_\"\n",
    "    text = re.sub('\\s([#%&\\*\\$]{2,})\\s', ' _CR_ ', text)\n",
    "    # Convert email adresses to email token '_email_'\n",
    "    text = re.sub('[\\w\\-][\\w\\-\\.]+@[\\w\\-][\\w\\-\\.]+[a-zA-Z]{1,4}', '_email_', text)\n",
    "    # Convert urls to url token\n",
    "    text = re.sub('\\w+:\\/\\/\\S+', r'_url_', text)\n",
    "    # Convert hashtags to hashtage token\n",
    "    text = re.sub('@\\w\\w+:?',r'_hashtag_', text)\n",
    "    # convert word with repeated charactors into normal form, eg: coooooool --> cool\n",
    "    text = re.sub(r'([a-zA-Z])\\1\\1+(\\w*)', r'\\1\\1\\2', text)\n",
    "    \n",
    "    # Unify you are/YOU ARE\n",
    "    text = re.sub(\"[Yy]ou'? ?a?re \", \"you are \", text)\n",
    "    text = re.sub(\"YOU'? ?A?RE \", \"YOU ARE \", text)\n",
    "    \n",
    "    # sepearate punctuation after word\n",
    "    text = re.sub(r'(\\S)([?.,!]+)', r'\\1 \\2 ', text)\n",
    "    \n",
    "    return text\n",
    "\n",
    "df_train['Comment']=df_train['Comment'].map(lambda x:parser(x))"
   ]
  },
  {
   "cell_type": "markdown",
   "metadata": {},
   "source": [
    "## 2. Data Exploratory"
   ]
  },
  {
   "cell_type": "markdown",
   "metadata": {},
   "source": [
    "### Frequency of classes"
   ]
  },
  {
   "cell_type": "code",
   "execution_count": 5,
   "metadata": {
    "collapsed": false
   },
   "outputs": [
    {
     "name": "stdout",
     "output_type": "stream",
     "text": [
      "train: 2898 1049\n",
      "test: 1954 693\n",
      "val: 1158 1077\n"
     ]
    }
   ],
   "source": [
    "print('train:',len(df_train[df_train.Insult==0]['Comment']),len(df_train[df_train.Insult==1]['Comment']))\n",
    "print('test:',len(df_test[df_test.Insult==0]['Comment']),len(df_test[df_test.Insult==1]['Comment']))\n",
    "print('val:',len(df_val[df_val.Insult==0]['Comment']),len(df_val[df_val.Insult==1]['Comment']))"
   ]
  },
  {
   "cell_type": "markdown",
   "metadata": {},
   "source": [
    "Among total 3947 training set, there are 2898 normal comments and 1049 insulting comments"
   ]
  },
  {
   "cell_type": "markdown",
   "metadata": {},
   "source": [
    "### Length comparision"
   ]
  },
  {
   "cell_type": "code",
   "execution_count": 6,
   "metadata": {
    "collapsed": false
   },
   "outputs": [],
   "source": [
    "df_train['length']=df_train['Comment'].map(lambda x:len(x.split()))\n",
    "df_train['log length']=df_train['Comment'].map(lambda x:np.log(len(x.split())))"
   ]
  },
  {
   "cell_type": "code",
   "execution_count": 7,
   "metadata": {
    "collapsed": false
   },
   "outputs": [
    {
     "name": "stderr",
     "output_type": "stream",
     "text": [
      "C:\\Users\\zcakz\\Anaconda3\\lib\\site-packages\\statsmodels\\nonparametric\\kdetools.py:20: VisibleDeprecationWarning: using a non-integer number instead of an integer will result in an error in the future\n",
      "  y = X[:m/2+1] + np.r_[0,X[m/2+1:],0]*1j\n"
     ]
    },
    {
     "data": {
      "text/plain": [
       "<matplotlib.axes._subplots.AxesSubplot at 0x2894bd07e80>"
      ]
     },
     "execution_count": 7,
     "metadata": {},
     "output_type": "execute_result"
    },
    {
     "data": {
      "image/png": "[encoded data removed]",
      "text/plain": [
       "<matplotlib.figure.Figure at 0x2894bcfeb00>"
      ]
     },
     "metadata": {},
     "output_type": "display_data"
    }
   ],
   "source": [
    "sns.distplot(df_train['log length'][df_train['Insult']==0])\n",
    "sns.distplot(df_train['log length'][df_train['Insult']==1])"
   ]
  },
  {
   "cell_type": "markdown",
   "metadata": {},
   "source": [
    "Left skewed distribution with multiple extreme outliers"
   ]
  },
  {
   "cell_type": "code",
   "execution_count": 8,
   "metadata": {
    "collapsed": false
   },
   "outputs": [
    {
     "name": "stdout",
     "output_type": "stream",
     "text": [
      "length of normal comment before removing outliers: 40.751897860593516\n",
      "length of insulting comment before removing outliers: 29.863679694947567\n"
     ]
    }
   ],
   "source": [
    "print('length of normal comment before removing outliers:',np.mean(df_train[df_train.Insult==0]['length']))\n",
    "print('length of insulting comment before removing outliers:',np.mean(df_train[df_train.Insult==1]['length']))"
   ]
  },
  {
   "cell_type": "code",
   "execution_count": 9,
   "metadata": {
    "collapsed": false
   },
   "outputs": [
    {
     "name": "stdout",
     "output_type": "stream",
     "text": [
      "length of normal comment after removing outliers: 32.494001411432606\n",
      "length of insulting comment after removing outliers: 28.261494252873565\n"
     ]
    },
    {
     "name": "stderr",
     "output_type": "stream",
     "text": [
      "C:\\Users\\zcakz\\Anaconda3\\lib\\site-packages\\ipykernel\\__main__.py:1: UserWarning: Boolean Series key will be reindexed to match DataFrame index.\n",
      "  if __name__ == '__main__':\n",
      "C:\\Users\\zcakz\\Anaconda3\\lib\\site-packages\\ipykernel\\__main__.py:2: UserWarning: Boolean Series key will be reindexed to match DataFrame index.\n",
      "  from ipykernel import kernelapp as app\n"
     ]
    }
   ],
   "source": [
    "print('length of normal comment after removing outliers:',np.mean(df_train[df_train['length']<200][df_train.Insult==0]['length']))\n",
    "print('length of insulting comment after removing outliers:',np.mean(df_train[df_train['length']<200][df_train.Insult==1]['length']))"
   ]
  },
  {
   "cell_type": "code",
   "execution_count": 10,
   "metadata": {
    "collapsed": false
   },
   "outputs": [
    {
     "data": {
      "text/plain": [
       "<matplotlib.axes._subplots.AxesSubplot at 0x2894bcfe438>"
      ]
     },
     "execution_count": 10,
     "metadata": {},
     "output_type": "execute_result"
    },
    {
     "data": {
      "image/png": "[encoded data removed]",
      "text/plain": [
       "<matplotlib.figure.Figure at 0x2894b20fbe0>"
      ]
     },
     "metadata": {},
     "output_type": "display_data"
    }
   ],
   "source": [
    "sns.boxplot(x='Insult', y='log length', data=df_train)"
   ]
  },
  {
   "cell_type": "markdown",
   "metadata": {},
   "source": [
    "The distributions of insulting and normal comments in terms of length are slightly different"
   ]
  },
  {
   "cell_type": "markdown",
   "metadata": {},
   "source": [
    "### bad word list"
   ]
  },
  {
   "cell_type": "markdown",
   "metadata": {},
   "source": [
    "Using bad word list which alleged from google to count the frequency and ratio of bad words in comments"
   ]
  },
  {
   "cell_type": "code",
   "execution_count": 11,
   "metadata": {
    "collapsed": false
   },
   "outputs": [],
   "source": [
    "bad_word  = [line.rstrip('\\n') for line in open('wordlist/google_bad_word.txt')]"
   ]
  },
  {
   "cell_type": "code",
   "execution_count": 12,
   "metadata": {
    "collapsed": false
   },
   "outputs": [],
   "source": [
    "df_train['bad word count']=df_train['Comment'].map(lambda x:sum([word.lower() in bad_word for word in x.split()]))\n",
    "df_train['bad word ratio']=df_train['bad word count']/df_train['length']"
   ]
  },
  {
   "cell_type": "code",
   "execution_count": 13,
   "metadata": {
    "collapsed": false
   },
   "outputs": [
    {
     "name": "stdout",
     "output_type": "stream",
     "text": [
      "bad word count (0/1): 0.3719806763285024 1.238322211630124\n",
      "bad word ratio (0/1): 0.01718711142293871 0.07236876713213453\n"
     ]
    }
   ],
   "source": [
    "print('bad word count (0/1):',np.mean(df_train[df_train.Insult==0]['bad word count']),np.mean(df_train[df_train.Insult==1]['bad word count']))\n",
    "print('bad word ratio (0/1):',np.mean(df_train[df_train.Insult==0]['bad word ratio']),np.mean(df_train[df_train.Insult==1]['bad word ratio']))"
   ]
  },
  {
   "cell_type": "code",
   "execution_count": 14,
   "metadata": {
    "collapsed": false
   },
   "outputs": [
    {
     "data": {
      "text/plain": [
       "<matplotlib.axes._subplots.AxesSubplot at 0x2894b8ced68>"
      ]
     },
     "execution_count": 14,
     "metadata": {},
     "output_type": "execute_result"
    },
    {
     "data": {
      "image/png": "[encoded data removed]",
      "text/plain": [
       "<matplotlib.figure.Figure at 0x2894b828048>"
      ]
     },
     "metadata": {},
     "output_type": "display_data"
    }
   ],
   "source": [
    "sns.boxplot(x='Insult', y='bad word ratio', data=df_train)"
   ]
  },
  {
   "cell_type": "code",
   "execution_count": 15,
   "metadata": {
    "collapsed": false
   },
   "outputs": [
    {
     "name": "stderr",
     "output_type": "stream",
     "text": [
      "C:\\Users\\zcakz\\Anaconda3\\lib\\site-packages\\ipykernel\\__main__.py:1: UserWarning: Boolean Series key will be reindexed to match DataFrame index.\n",
      "  if __name__ == '__main__':\n"
     ]
    },
    {
     "data": {
      "text/plain": [
       "array([' fucking idiots ', ' fucking hell ', ' fucking russians ',\n",
       "       ' FUCK OTR ', ' fucking hotest blowjob ever ', ' Fuck ', ' Shit '], dtype=object)"
      ]
     },
     "execution_count": 15,
     "metadata": {},
     "output_type": "execute_result"
    }
   ],
   "source": [
    "df_train[df_train['bad word ratio']>=0.5][df_train['Insult']==0]['Comment'].values"
   ]
  },
  {
   "cell_type": "code",
   "execution_count": 16,
   "metadata": {
    "collapsed": false
   },
   "outputs": [
    {
     "name": "stderr",
     "output_type": "stream",
     "text": [
      "C:\\Users\\zcakz\\Anaconda3\\lib\\site-packages\\ipykernel\\__main__.py:1: UserWarning: Boolean Series key will be reindexed to match DataFrame index.\n",
      "  if __name__ == '__main__':\n"
     ]
    },
    {
     "data": {
      "text/plain": [
       "array([' faggot ', ' suck my dick yeaah babby pussy ',\n",
       "       ' suck a dick pussy ass nigga bitch !!!  ', ' fucking savages ',\n",
       "       ' Retard ', ' fuck off whore ', ' fucking idiots ',\n",
       "       ' Hate that fucking asshole moron ',\n",
       "       ' keep it movin bitch ass nigga ', ' suck my dick bitches ',\n",
       "       ' he weak ass fuck ', ' fucking idiot !  ', ' faggot '], dtype=object)"
      ]
     },
     "execution_count": 16,
     "metadata": {},
     "output_type": "execute_result"
    }
   ],
   "source": [
    "df_train[df_train['bad word ratio']>=0.5][df_train['Insult']==1]['Comment'].values"
   ]
  },
  {
   "cell_type": "code",
   "execution_count": 17,
   "metadata": {
    "collapsed": false
   },
   "outputs": [
    {
     "name": "stderr",
     "output_type": "stream",
     "text": [
      "C:\\Users\\zcakz\\Anaconda3\\lib\\site-packages\\statsmodels\\nonparametric\\kdetools.py:20: VisibleDeprecationWarning: using a non-integer number instead of an integer will result in an error in the future\n",
      "  y = X[:m/2+1] + np.r_[0,X[m/2+1:],0]*1j\n"
     ]
    },
    {
     "data": {
      "text/plain": [
       "<matplotlib.axes._subplots.AxesSubplot at 0x2894bb757f0>"
      ]
     },
     "execution_count": 17,
     "metadata": {},
     "output_type": "execute_result"
    },
    {
     "data": {
      "image/png": "[encoded data removed]",
      "text/plain": [
       "<matplotlib.figure.Figure at 0x2894b8db3c8>"
      ]
     },
     "metadata": {},
     "output_type": "display_data"
    }
   ],
   "source": [
    "sns.distplot(df_train[df_train.Insult==0]['bad word ratio'])\n",
    "sns.distplot(df_train[df_train.Insult==1]['bad word ratio'])"
   ]
  },
  {
   "cell_type": "raw",
   "metadata": {},
   "source": [
    "ax = df_train[df_train['Insult']==1][df_train['length']<500].plot(kind='scatter', x='bad word ratio',\\\n",
    "                                                                  y='length', label='Insulting', alpha=0.7)\n",
    "df_train[df_train['Insult']==0][df_train['length']<500].plot(kind='scatter', x='bad word ratio', y='length',\\\n",
    "                                                            label='Normal', color='gray', alpha=0.7, ax=ax)\n",
    "ax = df_train[df_train['Insult']==0][df_train['length']<500].plot(kind='scatter', x='bad word ratio', y='length',\\\n",
    "                                                            label='Normal', color='gray', alpha=0.7)\n",
    "df_train[df_train['Insult']==1][df_train['length']<500].plot(kind='scatter', x='bad word ratio',\\\n",
    "                                                                  y='length', label='Insulting', alpha=0.7, ax=ax)"
   ]
  },
  {
   "cell_type": "markdown",
   "metadata": {},
   "source": [
    "In average the insulting comment has a higher bad word count/ratio than normal comment,but majority of both count and ratio in two classes are zero. "
   ]
  },
  {
   "cell_type": "markdown",
   "metadata": {},
   "source": [
    "### Positive/Negative word list"
   ]
  },
  {
   "cell_type": "code",
   "execution_count": 22,
   "metadata": {
    "collapsed": false
   },
   "outputs": [],
   "source": [
    "strong_pos  = [line.rstrip('\\n') for line in open('wordlist/strong_pos.txt')]\n",
    "strong_neg  = [line.rstrip('\\n') for line in open('wordlist/strong_neg.txt')]\n",
    "weak_pos  = [line.rstrip('\\n') for line in open('wordlist/weak_pos.txt')]\n",
    "weak_neg  = [line.rstrip('\\n') for line in open('wordlist/weak_neg.txt')]"
   ]
  },
  {
   "cell_type": "markdown",
   "metadata": {},
   "source": [
    "* strong positive"
   ]
  },
  {
   "cell_type": "code",
   "execution_count": 27,
   "metadata": {
    "collapsed": false
   },
   "outputs": [
    {
     "name": "stdout",
     "output_type": "stream",
     "text": [
      "strong pos count (0/1): 1.3688750862663905 0.9389895138226882\n",
      "strong pos ratio (0/1): 0.03938127244648062 0.02937471037660424\n"
     ]
    }
   ],
   "source": [
    "df_train['strong pos count']=df_train['Comment'].map(lambda x:sum([word.lower() in strong_pos for word in x.split()]))\n",
    "df_train['strong pos ratio']=df_train['strong pos count']/df_train['length']\n",
    "\n",
    "print('strong pos count (0/1):',np.mean(df_train[df_train.Insult==0]['strong pos count']),np.mean(df_train[df_train.Insult==1]['strong pos count']))\n",
    "print('strong pos ratio (0/1):',np.mean(df_train[df_train.Insult==0]['strong pos ratio']),np.mean(df_train[df_train.Insult==1]['strong pos ratio']))"
   ]
  },
  {
   "cell_type": "markdown",
   "metadata": {},
   "source": [
    "* strong negative"
   ]
  },
  {
   "cell_type": "code",
   "execution_count": 26,
   "metadata": {
    "collapsed": false
   },
   "outputs": [
    {
     "name": "stdout",
     "output_type": "stream",
     "text": [
      "strong neg count (0/1): 0.8350586611456177 1.3145853193517636\n",
      "strong neg ratio (0/1): 0.021308272514421998 0.05788140792074243\n"
     ]
    }
   ],
   "source": [
    "df_train['strong neg count']=df_train['Comment'].map(lambda x:sum([word.lower() in strong_neg for word in x.split()]))\n",
    "df_train['strong neg ratio']=df_train['strong neg count']/df_train['length']\n",
    "\n",
    "print('strong neg count (0/1):',np.mean(df_train[df_train.Insult==0]['strong neg count']),np.mean(df_train[df_train.Insult==1]['strong neg count']))\n",
    "print('strong neg ratio (0/1):',np.mean(df_train[df_train.Insult==0]['strong neg ratio']),np.mean(df_train[df_train.Insult==1]['strong neg ratio']))"
   ]
  },
  {
   "cell_type": "markdown",
   "metadata": {},
   "source": [
    "* weak positive"
   ]
  },
  {
   "cell_type": "code",
   "execution_count": 28,
   "metadata": {
    "collapsed": false
   },
   "outputs": [
    {
     "name": "stdout",
     "output_type": "stream",
     "text": [
      "weak pos count (0/1): 1.1369910282953761 0.7902764537654909\n",
      "weak pos ratio (0/1): 0.02868456304936648 0.02353577026481179\n"
     ]
    }
   ],
   "source": [
    "df_train['weak pos count']=df_train['Comment'].map(lambda x:sum([word.lower() in weak_pos for word in x.split()]))\n",
    "df_train['weak pos ratio']=df_train['weak pos count']/df_train['length']\n",
    "\n",
    "print('weak pos count (0/1):',np.mean(df_train[df_train.Insult==0]['weak pos count']),np.mean(df_train[df_train.Insult==1]['weak pos count']))\n",
    "print('weak pos ratio (0/1):',np.mean(df_train[df_train.Insult==0]['weak pos ratio']),np.mean(df_train[df_train.Insult==1]['weak pos ratio']))"
   ]
  },
  {
   "cell_type": "markdown",
   "metadata": {},
   "source": [
    "* weak negative"
   ]
  },
  {
   "cell_type": "code",
   "execution_count": 29,
   "metadata": {
    "collapsed": false
   },
   "outputs": [
    {
     "name": "stdout",
     "output_type": "stream",
     "text": [
      "weak neg count (0/1): 0.855072463768116 0.7454718779790277\n",
      "weak neg ratio (0/1): 0.02048345410906595 0.025559522636694046\n"
     ]
    }
   ],
   "source": [
    "df_train['weak neg count']=df_train['Comment'].map(lambda x:sum([word.lower() in weak_neg for word in x.split()]))\n",
    "df_train['weak neg ratio']=df_train['weak neg count']/df_train['length']\n",
    "\n",
    "print('weak neg count (0/1):',np.mean(df_train[df_train.Insult==0]['weak neg count']),np.mean(df_train[df_train.Insult==1]['weak neg count']))\n",
    "print('weak neg ratio (0/1):',np.mean(df_train[df_train.Insult==0]['weak neg ratio']),np.mean(df_train[df_train.Insult==1]['weak neg ratio']))"
   ]
  },
  {
   "cell_type": "code",
   "execution_count": 35,
   "metadata": {
    "collapsed": false
   },
   "outputs": [
    {
     "data": {
      "text/plain": [
       "<matplotlib.axes._subplots.AxesSubplot at 0x2894c409710>"
      ]
     },
     "execution_count": 35,
     "metadata": {},
     "output_type": "execute_result"
    },
    {
     "data": {
      "image/png": "[encoded data removed]",
      "text/plain": [
       "<matplotlib.figure.Figure at 0x2894c3a7be0>"
      ]
     },
     "metadata": {},
     "output_type": "display_data"
    }
   ],
   "source": [
    "df_train['negative word ratio'] = df_train['weak neg ratio'] + df_train['strong neg ratio']\n",
    "df_train['positive word ratio'] = df_train['weak pos ratio'] + df_train['strong pos ratio']\n",
    "\n",
    "sns.boxplot(x='Insult', y='positive word ratio', data=df_train)"
   ]
  },
  {
   "cell_type": "code",
   "execution_count": 36,
   "metadata": {
    "collapsed": false
   },
   "outputs": [
    {
     "data": {
      "text/plain": [
       "<matplotlib.axes._subplots.AxesSubplot at 0x2894c14a400>"
      ]
     },
     "execution_count": 36,
     "metadata": {},
     "output_type": "execute_result"
    },
    {
     "data": {
      "image/png": "[encoded data removed]",
      "text/plain": [
       "<matplotlib.figure.Figure at 0x28945b72ef0>"
      ]
     },
     "metadata": {},
     "output_type": "display_data"
    }
   ],
   "source": [
    "sns.boxplot(x='Insult', y='negative word ratio', data=df_train)"
   ]
  },
  {
   "cell_type": "code",
   "execution_count": 37,
   "metadata": {
    "collapsed": false
   },
   "outputs": [
    {
     "data": {
      "text/plain": [
       "<matplotlib.axes._subplots.AxesSubplot at 0x2894d5978d0>"
      ]
     },
     "execution_count": 37,
     "metadata": {},
     "output_type": "execute_result"
    },
    {
     "data": {
      "image/png": "[encoded data removed]",
      "text/plain": [
       "<matplotlib.figure.Figure at 0x28945b8d550>"
      ]
     },
     "metadata": {},
     "output_type": "display_data"
    }
   ],
   "source": [
    "df_train['sentence score']= np.exp((-2*df_train['bad word count'] + (-1)*df_train['strong neg count']+ (-1)*df_train['weak neg count']\\\n",
    "                        + 1*df_train['weak pos count'] + 1 * df_train['strong pos count'])/df_train['length'])\n",
    "    \n",
    "sns.boxplot(x='Insult', y='sentence score', data=df_train)"
   ]
  },
  {
   "cell_type": "markdown",
   "metadata": {},
   "source": [
    "### tf-idf similarity"
   ]
  },
  {
   "cell_type": "markdown",
   "metadata": {},
   "source": [
    "Here I test if tf-idf can capture the difference between groups, by computing average tf-idf vectors of normal and insulting comments in training set, then compute the cosine similarity between each comments after tf-idf vectorisation and these two average vectors."
   ]
  },
  {
   "cell_type": "markdown",
   "metadata": {},
   "source": [
    "* unigram"
   ]
  },
  {
   "cell_type": "code",
   "execution_count": null,
   "metadata": {
    "collapsed": false
   },
   "outputs": [],
   "source": [
    "from sklearn.metrics.pairwise import cosine_similarity\n",
    "from sklearn.feature_extraction.text import TfidfVectorizer\n",
    "\n",
    "tfidf_unigram = TfidfVectorizer(stop_words='english',ngram_range=(1, 1)) \n",
    "tfidf_unigram.fit(pd.concat((df_train, df_test), axis=0, ignore_index=True)['Comment'])\n",
    "\n",
    "tf_idf_unigram_all = tfidf_unigram.transform(df_train['Comment'])\n",
    "tf_idf_unigram_normal = tfidf_unigram.transform(df_train[df_train.Insult==0]['Comment'])\n",
    "tf_idf_unigram_insult = tfidf_unigram.transform(df_train[df_train.Insult==1]['Comment'])\n",
    "\n",
    "tf_idf_unigram_normal_mean = tf_idf_unigram_normal.mean(axis=0)\n",
    "tf_idf_unigram_insult_mean = tf_idf_unigram_insult.mean(axis=0)"
   ]
  },
  {
   "cell_type": "code",
   "execution_count": null,
   "metadata": {
    "collapsed": true
   },
   "outputs": [],
   "source": [
    "tfidf_unigram_normal_sim= [cosine_similarity(tf_idf_unigram_normal_mean, comment)[0][0] for comment in tf_idf_unigram_all]\n",
    "tfidf_unigram_insult_sim= [cosine_similarity(tf_idf_unigram_insult_mean, comment)[0][0] for comment in tf_idf_unigram_all]\n",
    "\n",
    "df_train['normal_tfidf_unigram_sim'] = tfidf_unigram_normal_sim\n",
    "df_train['insult_tfidf_unigram_sim'] = tfidf_unigram_insult_sim"
   ]
  },
  {
   "cell_type": "code",
   "execution_count": null,
   "metadata": {
    "collapsed": false
   },
   "outputs": [],
   "source": [
    "print(np.mean(df_train[df_train.Insult==0]['normal_tfidf_unigram_sim']),np.mean(df_train[df_train.Insult==1]['normal_tfidf_unigram_sim']))\n",
    "sns.boxplot(x='Insult', y='normal_tfidf_unigram_sim', data=df_train)"
   ]
  },
  {
   "cell_type": "code",
   "execution_count": null,
   "metadata": {
    "collapsed": false
   },
   "outputs": [],
   "source": [
    "print(np.mean(df_train[df_train.Insult==0]['insult_tfidf_unigram_sim']),np.mean(df_train[df_train.Insult==1]['insult_tfidf_unigram_sim']))\n",
    "sns.boxplot(x='Insult', y='insult_tfidf_unigram_sim', data=df_train)"
   ]
  },
  {
   "cell_type": "markdown",
   "metadata": {},
   "source": [
    "It seems like the average tf-idf cosine similarity of insult comments is useful"
   ]
  },
  {
   "cell_type": "markdown",
   "metadata": {},
   "source": [
    "* bigram"
   ]
  },
  {
   "cell_type": "code",
   "execution_count": null,
   "metadata": {
    "collapsed": true
   },
   "outputs": [],
   "source": [
    "tfidf_bigram = TfidfVectorizer(stop_words='english',ngram_range=(2, 2)) \n",
    "tfidf_bigram.fit(pd.concat((df_train, df_test), axis=0, ignore_index=True)['Comment'])\n",
    "\n",
    "tf_idf_bigram_all = tfidf_bigram.transform(df_train['Comment'])\n",
    "tf_idf_bigram_normal = tfidf_bigram.transform(df_train[df_train.Insult==0]['Comment'])\n",
    "tf_idf_bigram_insult = tfidf_bigram.transform(df_train[df_train.Insult==1]['Comment'])\n",
    "\n",
    "tf_idf_bigram_normal_mean = tf_idf_bigram_normal.mean(axis=0)\n",
    "tf_idf_bigram_insult_mean = tf_idf_bigram_insult.mean(axis=0)"
   ]
  },
  {
   "cell_type": "code",
   "execution_count": null,
   "metadata": {
    "collapsed": false
   },
   "outputs": [],
   "source": [
    "tfidf_bigram_normal_sim= [cosine_similarity(tf_idf_bigram_normal_mean, comment)[0][0] for comment in tf_idf_bigram_all]\n",
    "tfidf_bigram_insult_sim= [cosine_similarity(tf_idf_bigram_insult_mean, comment)[0][0] for comment in tf_idf_bigram_all]\n",
    "\n",
    "df_train['normal_tfidf_bigram_sim'] = tfidf_bigram_normal_sim\n",
    "df_train['insult_tfidf_bigram_sim'] = tfidf_bigram_insult_sim"
   ]
  },
  {
   "cell_type": "code",
   "execution_count": null,
   "metadata": {
    "collapsed": false,
    "scrolled": true
   },
   "outputs": [],
   "source": [
    "print(np.mean(df_train[df_train.Insult==0]['normal_tfidf_bigram_sim']),np.mean(df_train[df_train.Insult==1]['normal_tfidf_bigram_sim']))\n",
    "sns.boxplot(x='Insult', y='normal_tfidf_bigram_sim', data=df_train)"
   ]
  },
  {
   "cell_type": "code",
   "execution_count": null,
   "metadata": {
    "collapsed": false
   },
   "outputs": [],
   "source": [
    "print(np.mean(df_train[df_train.Insult==0]['insult_tfidf_bigram_sim']),np.mean(df_train[df_train.Insult==1]['insult_tfidf_bigram_sim']))\n",
    "sns.boxplot(x='Insult', y='insult_tfidf_bigram_sim', data=df_train)"
   ]
  },
  {
   "cell_type": "markdown",
   "metadata": {},
   "source": [
    "### language model"
   ]
  },
  {
   "cell_type": "code",
   "execution_count": null,
   "metadata": {
    "collapsed": false,
    "scrolled": true
   },
   "outputs": [],
   "source": [
    "import nltk\n",
    "from nltk import word_tokenize\n",
    "from nltk.util import ngrams\n",
    "\n",
    "def trigram_compute(x):\n",
    "    trigram_lst = []\n",
    "    for comment in x:\n",
    "        token = word_tokenize(comment)\n",
    "        trigrams=ngrams(token,3)\n",
    "        for i in trigrams:\n",
    "            trigram_lst.append(i)\n",
    "    return trigram_lst\n",
    "\n",
    "def normal_language_model_prob(x):\n",
    "    prob_sum = 0\n",
    "    for i in x:\n",
    "        prob_sum += normal_kneser_ney.prob(i)\n",
    "    return prob_sum\n",
    "\n",
    "def insult_language_model_prob(x):\n",
    "    prob_sum = 0\n",
    "    for i in x:\n",
    "        prob_sum += insult_kneser_ney.prob(i)\n",
    "    return prob_sum"
   ]
  },
  {
   "cell_type": "markdown",
   "metadata": {},
   "source": [
    "Compute language model for normal comments"
   ]
  },
  {
   "cell_type": "code",
   "execution_count": 283,
   "metadata": {
    "collapsed": false
   },
   "outputs": [
    {
     "name": "stderr",
     "output_type": "stream",
     "text": [
      "C:\\Users\\zcakz\\Anaconda3\\lib\\site-packages\\ipykernel\\__main__.py:10: DeprecationWarning: generator 'ngrams' raised StopIteration\n"
     ]
    }
   ],
   "source": [
    "normal_trigram_lst = trigram_compute(df_train[df_train.Insult==0]['Comment'])\n",
    "normal_freq_dist = nltk.FreqDist(normal_trigram_lst)\n",
    "normal_kneser_ney = nltk.KneserNeyProbDist(normal_freq_dist)"
   ]
  },
  {
   "cell_type": "markdown",
   "metadata": {},
   "source": [
    "Compute language model for insulting comments"
   ]
  },
  {
   "cell_type": "code",
   "execution_count": 284,
   "metadata": {
    "collapsed": false
   },
   "outputs": [
    {
     "name": "stderr",
     "output_type": "stream",
     "text": [
      "C:\\Users\\zcakz\\Anaconda3\\lib\\site-packages\\ipykernel\\__main__.py:10: DeprecationWarning: generator 'ngrams' raised StopIteration\n"
     ]
    }
   ],
   "source": [
    "insult_trigram_lst = trigram_compute(df_train[df_train.Insult==1]['Comment'])\n",
    "insult_freq_dist = nltk.FreqDist(insult_trigram_lst)\n",
    "insult_kneser_ney = nltk.KneserNeyProbDist(insult_freq_dist)"
   ]
  },
  {
   "cell_type": "markdown",
   "metadata": {},
   "source": [
    "Compute Probability \n",
    "* given language models of normal comments after log(x+0.5) transformation"
   ]
  },
  {
   "cell_type": "code",
   "execution_count": 285,
   "metadata": {
    "collapsed": false
   },
   "outputs": [
    {
     "name": "stderr",
     "output_type": "stream",
     "text": [
      "C:\\Users\\zcakz\\Anaconda3\\lib\\site-packages\\ipykernel\\__main__.py:16: DeprecationWarning: generator 'ngrams' raised StopIteration\n"
     ]
    },
    {
     "name": "stdout",
     "output_type": "stream",
     "text": [
      "1.513904731790569 0.015178988978441672\n"
     ]
    },
    {
     "data": {
      "text/plain": [
       "<matplotlib.axes._subplots.AxesSubplot at 0x2a007a12588>"
      ]
     },
     "execution_count": 285,
     "metadata": {},
     "output_type": "execute_result"
    },
    {
     "data": {
      "image/png": "[encoded data removed]",
      "text/plain": [
       "<matplotlib.figure.Figure at 0x2a076a0da20>"
      ]
     },
     "metadata": {},
     "output_type": "display_data"
    }
   ],
   "source": [
    "df_train['normal_lm_prob']=df_train['Comment'].map(lambda x: np.log(normal_language_model_prob(ngrams(word_tokenize(x),3))+0.5))\n",
    "\n",
    "print(np.mean(df_train[df_train.Insult==0]['normal_lm_prob']),np.mean(df_train[df_train.Insult==1]['normal_lm_prob']))\n",
    "sns.boxplot(x='Insult', y='normal_lm_prob', data=df_train)"
   ]
  },
  {
   "cell_type": "markdown",
   "metadata": {},
   "source": [
    "* given language models of insulting comments after log(x+0.5) transformation"
   ]
  },
  {
   "cell_type": "code",
   "execution_count": 286,
   "metadata": {
    "collapsed": false
   },
   "outputs": [
    {
     "name": "stderr",
     "output_type": "stream",
     "text": [
      "C:\\Users\\zcakz\\Anaconda3\\lib\\site-packages\\ipykernel\\__main__.py:22: DeprecationWarning: generator 'ngrams' raised StopIteration\n"
     ]
    },
    {
     "name": "stdout",
     "output_type": "stream",
     "text": [
      "-0.15214735810739202 1.4290225739545654\n"
     ]
    },
    {
     "data": {
      "text/plain": [
       "<matplotlib.axes._subplots.AxesSubplot at 0x2a00939a4e0>"
      ]
     },
     "execution_count": 286,
     "metadata": {},
     "output_type": "execute_result"
    },
    {
     "data": {
      "image/png": "[encoded data removed]",
      "text/plain": [
       "<matplotlib.figure.Figure at 0x2a007a12518>"
      ]
     },
     "metadata": {},
     "output_type": "display_data"
    }
   ],
   "source": [
    "df_train['insult_lm_prob']=df_train['Comment'].map(lambda x: np.log(insult_language_model_prob(ngrams(word_tokenize(x),3))+0.5))\n",
    "\n",
    "print(np.mean(df_train[df_train.Insult==0]['insult_lm_prob']),np.mean(df_train[df_train.Insult==1]['insult_lm_prob']))\n",
    "sns.boxplot(x='Insult', y='insult_lm_prob', data=df_train)"
   ]
  },
  {
   "cell_type": "code",
   "execution_count": null,
   "metadata": {
    "collapsed": true
   },
   "outputs": [],
   "source": []
  }
 ],
 "metadata": {
  "kernelspec": {
   "display_name": "Python 3",
   "language": "python",
   "name": "python3"
  },
  "language_info": {
   "codemirror_mode": {
    "name": "ipython",
    "version": 3
   },
   "file_extension": ".py",
   "mimetype": "text/x-python",
   "name": "python",
   "nbconvert_exporter": "python",
   "pygments_lexer": "ipython3",
   "version": "3.6.0"
  }
 },
 "nbformat": 4,
 "nbformat_minor": 2
}
