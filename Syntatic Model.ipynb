{
 "cells": [
  {
   "cell_type": "markdown",
   "metadata": {
    "collapsed": false
   },
   "source": [
    "# Environment Setup"
   ]
  },
  {
   "cell_type": "code",
   "execution_count": 2,
   "metadata": {
    "collapsed": false
   },
   "outputs": [],
   "source": [
    "from config import *\n",
    "from test_bad_word import *\n",
    "from utility import *\n",
    "\n",
    "import time\n",
    "import numpy as np\n",
    "import pandas as pd\n",
    "#pd.options.display.max_columns = None\n",
    "#pd.options.display.mpl_style = 'default'\n",
    "\n",
    "import re\n",
    "import os\n",
    "import sys\n",
    "import matplotlib.pyplot as plt\n",
    "%matplotlib inline\n",
    "import seaborn as sns\n",
    "from scipy import sparse\n",
    "\n",
    "from nltk.stem.snowball import SnowballStemmer\n",
    "\n",
    "stemmer = SnowballStemmer('english')"
   ]
  },
  {
   "cell_type": "markdown",
   "metadata": {},
   "source": [
    "## 1. Import raw data"
   ]
  },
  {
   "cell_type": "code",
   "execution_count": 3,
   "metadata": {
    "collapsed": true
   },
   "outputs": [],
   "source": [
    "df_train = pd.read_csv(DATA_DIR + '/train.csv', encoding=\"ISO-8859-1\")\n",
    "df_train['length']=df_train['Comment'].map(lambda x:len(x.split()))\n",
    "df_train = df_train[df_train['length']<300]\n",
    "df_test = pd.read_csv(DATA_DIR + '/test_with_solutions.csv', encoding=\"ISO-8859-1\")\n",
    "\n",
    "num_train = df_train.shape[0]\n",
    "num_test = df_test.shape[0]\n",
    "\n",
    "df_all = pd.concat((df_train, df_test), axis=0, ignore_index=True)"
   ]
  },
  {
   "cell_type": "raw",
   "metadata": {
    "collapsed": true
   },
   "source": [
    "df_train_1 = pd.read_csv(DATA_DIR + '/train.csv', encoding=\"ISO-8859-1\")\n",
    "df_train_2 = pd.read_csv(DATA_DIR + '/test_with_solutions.csv', encoding=\"ISO-8859-1\")\n",
    "df_train = pd.concat((df_train_1, df_train_2), axis=0, ignore_index=True)\n",
    "df_train['length']=df_train['Comment'].map(lambda x:len(x.split()))\n",
    "#df_train = df_train[df_train['length']<300]\n",
    "df_test = pd.read_csv(DATA_DIR + '/impermium_verification_labels.csv', encoding=\"ISO-8859-1\")\n",
    "\n",
    "num_train = df_train.shape[0]\n",
    "num_test = df_test.shape[0]\n",
    "\n",
    "df_all = pd.concat((df_train, df_test), axis=0, ignore_index=True)"
   ]
  },
  {
   "cell_type": "code",
   "execution_count": 4,
   "metadata": {
    "collapsed": false
   },
   "outputs": [
    {
     "data": {
      "text/plain": [
       "(6568, 5)"
      ]
     },
     "execution_count": 4,
     "metadata": {},
     "output_type": "execute_result"
    }
   ],
   "source": [
    "df_all.shape"
   ]
  },
  {
   "cell_type": "code",
   "execution_count": 5,
   "metadata": {
    "collapsed": false
   },
   "outputs": [],
   "source": [
    "df_all['Comment']=df_all['Comment'].map(lambda x:parser(x))\n",
    "df_all['Comment']=df_all['Comment'].map(lambda x:badword_replacer(x))\n",
    "df_all['Comment_stemmed']=df_all['Comment'].map(lambda x: ' '.join([stemmer.stem(word) for word in x.split()]))\n",
    "\n",
    "df_train['Comment']=df_train['Comment'].map(lambda x:parser(x))\n",
    "df_train['Comment']=df_train['Comment'].map(lambda x:badword_replacer(x))\n",
    "df_train['Comment_stemmed']=df_train['Comment'].map(lambda x: ' '.join([stemmer.stem(word) for word in x.split()]))"
   ]
  },
  {
   "cell_type": "code",
   "execution_count": 6,
   "metadata": {
    "collapsed": true
   },
   "outputs": [],
   "source": [
    "bad_word_1  = [line.rstrip('\\n') for line in open('wordlist/google_bad_word.txt')]\n",
    "#bad_word_2  = [line.rstrip('\\n') for line in open('handcrafted_badword.txt')]\n",
    "bad_word= set(bad_word_1  + test_bad_word) "
   ]
  },
  {
   "cell_type": "code",
   "execution_count": 7,
   "metadata": {
    "collapsed": false
   },
   "outputs": [],
   "source": [
    "df_dependency = pd.read_csv(PROCESSINGTEXT_DIR + '/dependency.csv')\n",
    "df_dependency = df_dependency.drop_duplicates()\n",
    "df_all = pd.merge(df_all, df_dependency, how='left', on='Comment')"
   ]
  },
  {
   "cell_type": "code",
   "execution_count": 8,
   "metadata": {
    "collapsed": false
   },
   "outputs": [
    {
     "data": {
      "text/plain": [
       "(6568, 7)"
      ]
     },
     "execution_count": 8,
     "metadata": {},
     "output_type": "execute_result"
    }
   ],
   "source": [
    "df_all.shape"
   ]
  },
  {
   "cell_type": "markdown",
   "metadata": {},
   "source": [
    "## 2. Construct features"
   ]
  },
  {
   "cell_type": "markdown",
   "metadata": {},
   "source": [
    "* syntatic features"
   ]
  },
  {
   "cell_type": "code",
   "execution_count": 9,
   "metadata": {
    "collapsed": false
   },
   "outputs": [],
   "source": [
    "from nltk.parse.stanford import StanfordDependencyParser\n",
    "import graphviz\n",
    "import os\n",
    "os.environ['JAVAHOME'] =  \"../../../Program Files (x86)/Java/jre1.8.0_131/bin/java.exe\" "
   ]
  },
  {
   "cell_type": "code",
   "execution_count": 10,
   "metadata": {
    "collapsed": false
   },
   "outputs": [
    {
     "data": {
      "text/plain": [
       "[(('loser', 'NN'), 'nsubj', ('you', 'PRP')),\n",
       " (('loser', 'NN'), 'cop', ('are', 'VBP')),\n",
       " (('loser', 'NN'), 'det', ('a', 'DT'))]"
      ]
     },
     "execution_count": 10,
     "metadata": {},
     "output_type": "execute_result"
    }
   ],
   "source": [
    "path_to_jar = '../stanford-parser-full-2014-08-27/stanford-parser.jar'\n",
    "path_to_models_jar = '../stanford-parser-full-2014-08-27/stanford-parser-3.4.1-models.jar'\n",
    "dependency_parser = StanfordDependencyParser(path_to_jar=path_to_jar, path_to_models_jar=path_to_models_jar)\n",
    "\n",
    "result = dependency_parser.raw_parse('you are a loser ')\n",
    "dep = result.__next__()\n",
    "list(dep.triples())\n",
    "\n",
    "# X <----- Y"
   ]
  },
  {
   "cell_type": "code",
   "execution_count": 12,
   "metadata": {
    "collapsed": false
   },
   "outputs": [
    {
     "data": {
      "text/plain": [
       "[(('loser', 'NN'), 'nsubj', ('you', 'PRP')),\n",
       " (('loser', 'NN'), 'cop', ('are', 'VBP')),\n",
       " (('loser', 'NN'), 'predet', ('such', 'PDT')),\n",
       " (('loser', 'NN'), 'det', ('a', 'DT'))]"
      ]
     },
     "execution_count": 12,
     "metadata": {},
     "output_type": "execute_result"
    }
   ],
   "source": [
    "result = dependency_parser.raw_parse('you are such a loser')\n",
    "dep = result.__next__()\n",
    "list(dep.triples())"
   ]
  },
  {
   "cell_type": "code",
   "execution_count": 12,
   "metadata": {
    "collapsed": true
   },
   "outputs": [],
   "source": [
    "def obsub(x):\n",
    "    try:\n",
    "        x = eval(x)\n",
    "    except:\n",
    "        return 0\n",
    "    if x ==[]:\n",
    "        return 0\n",
    "    n = 0 \n",
    "    for i in x[0]:\n",
    "        if i != []:\n",
    "            if i[1] in  ['dobj','iobj','nsubj','nsubjpass','xsubj','agent'] and (i[0][0].lower() in bad_word):\n",
    "                n +=1\n",
    "    return n\n",
    "        \n",
    "\n",
    "def descriptive(x):\n",
    "    try:\n",
    "        x = eval(x)\n",
    "    except:\n",
    "        return 0\n",
    "    if x ==[]:\n",
    "        return 0\n",
    "    n = 0 \n",
    "    for i in x[0]:\n",
    "        if i != []:\n",
    "            if i[1] in  ['abbrev','acomp','amod','appos','nn','partmod'] and i[2][0].lower() in bad_word:\n",
    "                n +=1\n",
    "    return n \n",
    "\n",
    "def possession(x):\n",
    "    try:\n",
    "        x = eval(x)\n",
    "    except:\n",
    "        return 0\n",
    "    if x ==[]:\n",
    "        return 0\n",
    "    n = 0 \n",
    "    for i in x[0]:\n",
    "        if i != []:\n",
    "            if i[1] in  ['poss'] and i[0][0].lower() in bad_word:\n",
    "                n +=1\n",
    "    return n \n",
    "\n",
    "def rhetorical(x):\n",
    "    try:\n",
    "        x = eval(x)\n",
    "    except:\n",
    "        return 0\n",
    "    if x ==[]:\n",
    "        return 0\n",
    "    n = 0 \n",
    "    for i in x[0]:\n",
    "        if i != []:\n",
    "            if i[1] in  ['rcmod '] and i[0][0].lower() in bad_word:\n",
    "                n +=1\n",
    "    return n \n",
    "\n",
    "def close_phrase(input):\n",
    "    try:\n",
    "        x = eval(x)\n",
    "    except:\n",
    "        return 0\n",
    "    if x ==[]:\n",
    "        return 0\n",
    "    n = 0 \n",
    "    for i in x[0]:\n",
    "        if i != []:\n",
    "            if i[1] in  ['conj','parataxis'] and (i[0][0].lower() in bad_word or i[2][0].lower() in bad_word):\n",
    "                n +=1\n",
    "    return n "
   ]
  },
  {
   "cell_type": "code",
   "execution_count": 13,
   "metadata": {
    "collapsed": false
   },
   "outputs": [],
   "source": [
    "df_all['syn obsub']= df_all['Dependency'].map(lambda x: obsub(x))\n",
    "df_all['syn descriptive']= df_all['Dependency'].map(lambda x: descriptive(x))\n",
    "df_all['syn possession']= df_all['Dependency'].map(lambda x: possession(x))\n",
    "df_all['syn rhetorical']= df_all['Dependency'].map(lambda x: rhetorical(x))\n",
    "df_all['syn close']= df_all['Dependency'].map(lambda x: close_phrase(x))\n",
    "df_all['syn sum']=df_all['syn obsub'] + df_all['syn descriptive'] + df_all['syn possession'] + \\\n",
    "                  df_all['syn rhetorical'] + df_all['syn close']"
   ]
  },
  {
   "cell_type": "code",
   "execution_count": 14,
   "metadata": {
    "collapsed": true
   },
   "outputs": [],
   "source": [
    "syn_obsub = sparse.csr_matrix(df_all['syn obsub'].values).T\n",
    "syn_descriptive = sparse.csr_matrix(df_all['syn descriptive'].values).T\n",
    "syn_possession = sparse.csr_matrix(df_all['syn possession'].values).T\n",
    "syn_rhetorical = sparse.csr_matrix(df_all['syn rhetorical'].values).T\n",
    "syn_close = sparse.csr_matrix(df_all['syn close'].values).T\n",
    "syn_sum = sparse.csr_matrix(df_all['syn sum'].values).T"
   ]
  },
  {
   "cell_type": "code",
   "execution_count": 24,
   "metadata": {
    "collapsed": false
   },
   "outputs": [
    {
     "data": {
      "text/plain": [
       "<matplotlib.axes._subplots.AxesSubplot at 0x15230e24080>"
      ]
     },
     "execution_count": 24,
     "metadata": {},
     "output_type": "execute_result"
    },
    {
     "data": {
      "image/png": "[encoded data removed]",
      "text/plain": [
       "<matplotlib.figure.Figure at 0x1523082deb8>"
      ]
     },
     "metadata": {},
     "output_type": "display_data"
    }
   ],
   "source": [
    "sns.boxplot(x='Insult', y='syn rhetorical', data=df_all)"
   ]
  },
  {
   "cell_type": "code",
   "execution_count": 15,
   "metadata": {
    "collapsed": false
   },
   "outputs": [
    {
     "data": {
      "text/plain": [
       "<6568x6 sparse matrix of type '<class 'numpy.int64'>'\n",
       "\twith 3441 stored elements in Compressed Sparse Row format>"
      ]
     },
     "execution_count": 15,
     "metadata": {},
     "output_type": "execute_result"
    }
   ],
   "source": [
    "features = []\n",
    "\n",
    "features.append(syn_obsub)\n",
    "features.append(syn_descriptive)\n",
    "features.append(syn_possession) \n",
    "features.append(syn_rhetorical)\n",
    "features.append(syn_close)\n",
    "features.append(syn_sum)\n",
    "\n",
    "features = sparse.hstack(features).tocsr()\n",
    "features"
   ]
  },
  {
   "cell_type": "markdown",
   "metadata": {},
   "source": [
    "## 3. Models"
   ]
  },
  {
   "cell_type": "markdown",
   "metadata": {},
   "source": [
    "* Define Train/Test Sets"
   ]
  },
  {
   "cell_type": "code",
   "execution_count": 16,
   "metadata": {
    "collapsed": false
   },
   "outputs": [],
   "source": [
    "X_train = features[:num_train]\n",
    "X_test = features[num_train:]\n",
    "\n",
    "y_train = df_train['Insult'].values\n",
    "y_test = df_test['Insult'].values"
   ]
  },
  {
   "cell_type": "markdown",
   "metadata": {},
   "source": [
    "* Models"
   ]
  },
  {
   "cell_type": "code",
   "execution_count": 20,
   "metadata": {
    "collapsed": false
   },
   "outputs": [
    {
     "data": {
      "text/plain": [
       "('model training time:', 0.0, 'minutes\\n')"
      ]
     },
     "execution_count": 20,
     "metadata": {},
     "output_type": "execute_result"
    }
   ],
   "source": [
    "from sklearn.ensemble import BaggingClassifier,RandomForestClassifier,GradientBoostingClassifier\n",
    "from sklearn.linear_model import LogisticRegression\n",
    "from sklearn.svm import LinearSVC\n",
    "\n",
    "t_1 = time.time()\n",
    "\n",
    "#clf = RandomForestClassifier(n_estimators=2500, max_depth=15, random_state=2017)\n",
    "#clf = BaggingClassifier(clf, n_estimators=100, max_samples=0.1, random_state=2017)\n",
    "#clf = LinearSVC(C=0.1, class_weight={0:1,1:5})\n",
    "clf = LogisticRegression(tol=1e-8, penalty='l2', C=2,class_weight={0:1,1:4})\n",
    "clf.fit(X_train, y_train)\n",
    "y_pred_prob = clf.predict_proba(X_test)[:,1]\n",
    "y_pred = clf.predict(X_test)\n",
    "\n",
    "'model training time:',round((time.time()-t_1)/60,1) ,'minutes\\n'"
   ]
  },
  {
   "cell_type": "code",
   "execution_count": 21,
   "metadata": {
    "collapsed": false
   },
   "outputs": [
    {
     "data": {
      "text/plain": [
       "0.67885353018413408"
      ]
     },
     "execution_count": 21,
     "metadata": {},
     "output_type": "execute_result"
    }
   ],
   "source": [
    "from sklearn.metrics import roc_auc_score, f1_score\n",
    "roc_auc_score(y_test,y_pred_prob)"
   ]
  },
  {
   "cell_type": "code",
   "execution_count": 22,
   "metadata": {
    "collapsed": false
   },
   "outputs": [
    {
     "data": {
      "text/plain": [
       "0.51411589895988108"
      ]
     },
     "execution_count": 22,
     "metadata": {},
     "output_type": "execute_result"
    }
   ],
   "source": [
    "f1_score(y_test, y_pred)"
   ]
  },
  {
   "cell_type": "code",
   "execution_count": null,
   "metadata": {
    "collapsed": true
   },
   "outputs": [],
   "source": []
  }
 ],
 "metadata": {
  "kernelspec": {
   "display_name": "Python 3",
   "language": "python",
   "name": "python3"
  }
 },
 "nbformat": 4,
 "nbformat_minor": 2
}
