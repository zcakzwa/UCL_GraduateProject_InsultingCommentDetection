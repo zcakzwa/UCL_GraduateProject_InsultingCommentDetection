{
 "cells": [
  {
   "cell_type": "markdown",
   "metadata": {
    "collapsed": false
   },
   "source": [
    "## <font color='green'>Setup 1</font>: Load Libraries"
   ]
  },
  {
   "cell_type": "code",
   "execution_count": 1,
   "metadata": {
    "collapsed": false
   },
   "outputs": [],
   "source": [
    "import sys\n",
    "root_dir = \"../\"\n",
    "sys.path.append(root_dir)\n",
    "\n",
    "from test_bad_word import *\n",
    "from utility import *\n",
    "\n",
    "import time\n",
    "import numpy as np\n",
    "import pandas as pd\n",
    "#pd.options.display.max_columns = None\n",
    "#pd.options.display.mpl_style = 'default'\n",
    "import tensorflow as tf\n",
    "import seaborn as sns\n",
    "\n",
    "import re\n",
    "import os\n",
    "import sys\n",
    "import random\n",
    "import matplotlib.pyplot as plt\n",
    "%matplotlib inline\n",
    "from scipy import sparse\n",
    "\n",
    "from nltk.stem.snowball import SnowballStemmer\n",
    "from sklearn.metrics import roc_auc_score, f1_score\n",
    "from sklearn.metrics import confusion_matrix\n",
    "    \n",
    "stemmer = SnowballStemmer('english')"
   ]
  },
  {
   "cell_type": "markdown",
   "metadata": {},
   "source": [
    "## <font color='green'>Setup 2</font>: Load Datasets"
   ]
  },
  {
   "cell_type": "code",
   "execution_count": 3,
   "metadata": {
    "collapsed": false
   },
   "outputs": [],
   "source": [
    "df_train = pd.read_csv('data/RNN_train.csv', encoding=\"ISO-8859-1\")\n",
    "df_test = pd.read_csv('data/RNN_test.csv', encoding=\"ISO-8859-1\")\n",
    "df_val = pd.read_csv('data/RNN_val.csv', encoding=\"ISO-8859-1\")\n",
    "\n",
    "num_train = df_train.shape[0]\n",
    "num_test = df_test.shape[0]\n",
    "num_val = df_val.shape[0]"
   ]
  },
  {
   "cell_type": "code",
   "execution_count": 10,
   "metadata": {
    "collapsed": false
   },
   "outputs": [],
   "source": [
    "def data_transform(file):\n",
    "    data = []\n",
    "    length = len(file)\n",
    "    sentences = file['Comment'].values\n",
    "    insults = file['Insult'].values\n",
    "    for i in range(length):\n",
    "        current_sentences = sentences[i]\n",
    "        current_insult = insults[i]\n",
    "        instance = {\"sentences\": current_sentences, \"insult\": current_insult}\n",
    "        data.append(instance)\n",
    "    return data\n",
    "\n",
    "train = data_transform(df_train)\n",
    "test = data_transform(df_test)\n",
    "val = data_transform(df_val)"
   ]
  },
  {
   "cell_type": "code",
   "execution_count": 77,
   "metadata": {
    "collapsed": false
   },
   "outputs": [],
   "source": [
    "df_train['total length'] = df_train['sentences length'].map(lambda x: np.sum(eval(x)))\n",
    "df_test['total length'] = df_test['sentences length'].map(lambda x: np.sum(eval(x)))\n",
    "df_val['total length'] = df_val['sentences length'].map(lambda x: np.sum(eval(x)))"
   ]
  },
  {
   "cell_type": "code",
   "execution_count": 84,
   "metadata": {
    "collapsed": false
   },
   "outputs": [
    {
     "name": "stderr",
     "output_type": "stream",
     "text": [
      "C:\\Users\\zcakz\\Anaconda3\\envs\\tensorflow\\lib\\site-packages\\statsmodels\\nonparametric\\kdetools.py:20: VisibleDeprecationWarning: using a non-integer number instead of an integer will result in an error in the future\n",
      "  y = X[:m/2+1] + np.r_[0,X[m/2+1:],0]*1j\n"
     ]
    },
    {
     "data": {
      "text/plain": [
       "<matplotlib.axes._subplots.AxesSubplot at 0x2960865fac8>"
      ]
     },
     "execution_count": 84,
     "metadata": {},
     "output_type": "execute_result"
    },
    {
     "data": {
      "image/png": "[encoded data removed]",
      "text/plain": [
       "<matplotlib.figure.Figure at 0x29609354470>"
      ]
     },
     "metadata": {},
     "output_type": "display_data"
    }
   ],
   "source": [
    "sns.distplot(df_train['total length'].append(df_test['total length']).append(df_val['total length']))"
   ]
  },
  {
   "cell_type": "markdown",
   "metadata": {},
   "source": [
    "## <font color='green'>Setup 3</font>: Pipeline Datasets"
   ]
  },
  {
   "cell_type": "markdown",
   "metadata": {},
   "source": [
    "* comment length: number of setences in a comment\n",
    "* sentence length: number of words in a sentene"
   ]
  },
  {
   "cell_type": "code",
   "execution_count": 86,
   "metadata": {
    "collapsed": true
   },
   "outputs": [],
   "source": [
    "glove_size = 100\n",
    "\n",
    "word_vector_list = []\n",
    "\n",
    "#file= open('word2vec/glove.6B.%sd.txt' % glove_size, 'r', encoding='utf-8')\n",
    "#file= open('word2vec/glove.840B.300d.txt', 'r', encoding='utf-8')\n",
    "file= open('word2vec/glove.twitter.27B.%sd.txt' % glove_size, 'r', encoding='utf-8')\n",
    "for line in file:\n",
    "    line = line.rstrip().split(' ')\n",
    "    word_vector_list.append(line[0])"
   ]
  },
  {
   "cell_type": "code",
   "execution_count": 87,
   "metadata": {
    "collapsed": true
   },
   "outputs": [],
   "source": [
    "def pipeline(data, max_sent_len = 250, vocab = None):\n",
    "    if vocab is None:\n",
    "        vocab = {'<PAD>': 0, '<OOV>': 1}\n",
    "        \n",
    "    out_sentences = np.full([len(data),  max_sent_len], 0, dtype=np.int32)\n",
    "    sentences_length = []\n",
    "    data_insults = []\n",
    "    for i,instance in enumerate(data):\n",
    "        sentence = instance['sentences'].split()\n",
    "        sents = []\n",
    "        for token in sentence[:max_sent_len]:\n",
    "            token = token.lower()\n",
    "            if token not in word_vector_list:\n",
    "                token_id = vocab['<OOV>']\n",
    "            elif token in word_vector_list and token not in vocab:\n",
    "                vocab[token] = len(vocab)\n",
    "                token_id = vocab[token]\n",
    "            else:\n",
    "                token_id = vocab[token]\n",
    "            sents.append(token_id)\n",
    "        data_insults.append(instance['insult'])\n",
    "        if len(sents) <= max_sent_len:\n",
    "            out_sentences[i, 0:len(sents)] = sents\n",
    "            sentences_length.append(len(sents))\n",
    "        else:\n",
    "            out_sentences[i, 0: max_sent_len] = sents[:max_sent_len]\n",
    "            sentences_length.append(max_sent_len)\n",
    "    return out_sentences,sentences_length, np.array(data_insults), vocab"
   ]
  },
  {
   "cell_type": "code",
   "execution_count": 88,
   "metadata": {
    "collapsed": false
   },
   "outputs": [
    {
     "name": "stdout",
     "output_type": "stream",
     "text": [
      "time:  330.0332717895508\n"
     ]
    }
   ],
   "source": [
    "t_0 = time.time()\n",
    "\n",
    "train_sentences, train_length, train_label, vocab = pipeline(train)\n",
    "test_sentences, test_length, test_label, vocab = pipeline(test, vocab = vocab)\n",
    "val_sentences, val_length, val_label, vocab = pipeline(val, vocab = vocab)\n",
    "\n",
    "print('time: ',time.time() - t_0)"
   ]
  },
  {
   "cell_type": "code",
   "execution_count": 93,
   "metadata": {
    "collapsed": false
   },
   "outputs": [],
   "source": [
    "np.save('Sentence-Level-Preprocessed-Data/train_sentence', train_sentences)\n",
    "np.save('Sentence-Level-Preprocessed-Data/train_length', train_length)\n",
    "np.save('Sentence-Level-Preprocessed-Data/train_label', train_label)\n",
    "\n",
    "np.save('Sentence-Level-Preprocessed-Data/test_sentence', test_sentences)\n",
    "np.save('Sentence-Level-Preprocessed-Data/test_length', test_length)\n",
    "np.save('Sentence-Level-Preprocessed-Data/test_label', test_label)\n",
    "\n",
    "np.save('Sentence-Level-Preprocessed-Data/val_sentence', val_sentences)\n",
    "np.save('Sentence-Level-Preprocessed-Data/val_length', val_length)\n",
    "np.save('Sentence-Level-Preprocessed-Data/val_label', val_label)"
   ]
  },
  {
   "cell_type": "markdown",
   "metadata": {},
   "source": [
    "## <font color='green'>Setup 4</font>: Word2Vec"
   ]
  },
  {
   "cell_type": "code",
   "execution_count": 94,
   "metadata": {
    "collapsed": false
   },
   "outputs": [],
   "source": [
    "import collections\n",
    "import operator\n",
    "\n",
    "glove_size = 100\n",
    "\n",
    "word_dict= collections.defaultdict(list)\n",
    "vocab_keys = vocab.keys()\n",
    "\n",
    "#file= open('word2vec/glove.6B.%sd.txt' % glove_size, 'r', encoding='utf-8')\n",
    "file= open('word2vec/glove.twitter.27B.%sd.txt' % glove_size, 'r', encoding='utf-8')\n",
    "#file= open('word2vec/glove.840B.300d.txt', 'r', encoding='utf-8')\n",
    "for line in file:\n",
    "    line = line.rstrip().split(' ')\n",
    "    if line[0] in vocab_keys:\n",
    "        word_dict[line[0]]=[float(i) for i in line[1:]]\n",
    "    \n",
    "word_dict=dict(word_dict)"
   ]
  },
  {
   "cell_type": "code",
   "execution_count": 95,
   "metadata": {
    "collapsed": true
   },
   "outputs": [],
   "source": [
    "sorted_vocab = sorted(vocab.items(), key=operator.itemgetter(1))\n",
    "\n",
    "embedding_list=[]\n",
    "#OOV_vector = [random.uniform(-1, 1) for i in range(glove_size)]\n",
    "OOV_vector  = np.mean(list(word_dict.values()),axis=0)\n",
    "\n",
    "for item in sorted_vocab:\n",
    "    if item[0]== '<PAD>':\n",
    "        embedding_list.append(np.array([0 for i in range(glove_size)], dtype='f'))\n",
    "    elif item[0] =='_cr_':\n",
    "        embedding_list.append(word_dict['fuck'])\n",
    "    elif item[0] in word_dict:\n",
    "        embedding_list.append(word_dict[item[0]])\n",
    "    else:\n",
    "        if item[0] in bad_word:\n",
    "            embedding_list.append(word_dict['fuck']) \n",
    "        else:\n",
    "            embedding_list.append(OOV_vector)\n",
    "        #embedding_list.append('unseen')\n",
    "       \n",
    "W = np.array(embedding_list)\n",
    "#print(\"unseen ratio:\", embedding_list.count('unseen')/len(vocab))"
   ]
  },
  {
   "cell_type": "code",
   "execution_count": 96,
   "metadata": {
    "collapsed": true
   },
   "outputs": [],
   "source": [
    "np.save('Sentence-Level-Preprocessed-Data/embedding', W)"
   ]
  }
 ],
 "metadata": {
  "kernelspec": {
   "display_name": "tensorflow",
   "language": "python",
   "name": "tensorflow"
  },
  "language_info": {
   "codemirror_mode": {
    "name": "ipython",
    "version": 3
   },
   "file_extension": ".py",
   "mimetype": "text/x-python",
   "name": "python",
   "nbconvert_exporter": "python",
   "pygments_lexer": "ipython3",
   "version": "3.5.2"
  }
 },
 "nbformat": 4,
 "nbformat_minor": 2
}
