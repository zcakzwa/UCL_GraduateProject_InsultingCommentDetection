{
 "cells": [
  {
   "cell_type": "code",
   "execution_count": 95,
   "metadata": {
    "collapsed": true
   },
   "outputs": [],
   "source": [
    "import sys\n",
    "root_dir = \"../\"\n",
    "sys.path.append(root_dir)\n",
    "\n",
    "from test_bad_word import *\n",
    "from utility import *\n",
    "\n",
    "import time\n",
    "import numpy as np\n",
    "import pandas as pd\n",
    "#pd.options.display.max_columns = None\n",
    "#pd.options.display.mpl_style = 'default'\n",
    "import tensorflow as tf\n",
    "import seaborn as sns\n",
    "\n",
    "import re\n",
    "import os\n",
    "import sys\n",
    "import random\n",
    "import matplotlib.pyplot as plt\n",
    "%matplotlib inline\n",
    "from scipy import sparse\n",
    "\n",
    "from nltk.stem.snowball import SnowballStemmer\n",
    "from sklearn.metrics import roc_auc_score, f1_score,roc_curve, recall_score,precision_score,confusion_matrix\n",
    "from sklearn.metrics.pairwise import cosine_similarity\n",
    "\n",
    "from sklearn import linear_model"
   ]
  },
  {
   "cell_type": "code",
   "execution_count": 2,
   "metadata": {
    "collapsed": false
   },
   "outputs": [],
   "source": [
    "rnn_baseline_pred_val_prob = np.load('rnn_baseline_pred_val_prob.npy')\n",
    "rnn_word_level_pred_val_prob = np.load('rnn_word_level_pred_val_prob.npy')\n",
    "rnn_sentence_level_pred_val_prob = np.load('rnn_sentence_level_pred_val_prob.npy')\n",
    "feature_pred_val_prob = np.load('feature_pred_val_prob.npy')\n",
    "\n",
    "val_label = np.load('val_real.npy')\n",
    "\n",
    "rnn_baseline_pred_test_prob = np.load('rnn_baseline_pred_test_prob.npy')\n",
    "rnn_word_level_pred_test_prob = np.load('rnn_word_level_pred_test_prob.npy')\n",
    "rnn_sentence_level_pred_test_prob = np.load('rnn_sentence_level_pred_test_prob.npy')\n",
    "feature_pred_test_prob = np.load('feature_pred_test_prob.npy')\n",
    "\n",
    "test_label = np.load('test_real.npy')"
   ]
  },
  {
   "cell_type": "code",
   "execution_count": null,
   "metadata": {
    "collapsed": true
   },
   "outputs": [],
   "source": [
    "rnn_baseline_pred_val_prob = np.load('rnn_baseline_pred_val_prob.npy')\n",
    "rnn_word_level_pred_val_prob = np.load('rnn_word_level_pred_val_prob.npy')\n",
    "rnn_sentence_level_pred_val_prob = np.load('rnn_sentence_level_pred_val_prob.npy')\n",
    "feature_pred_val_prob = np.load('feature_pred_val_prob.npy')\n",
    "\n",
    "rnn_baseline_pred_test_prob = np.load('rnn_baseline_pred_test_prob.npy')\n",
    "rnn_word_level_pred_test_prob = np.load('rnn_word_level_pred_test_prob.npy')\n",
    "rnn_sentence_level_pred_test_prob = np.load('rnn_sentence_level_pred_test_prob.npy')\n",
    "feature_pred_test_prob = np.load('feature_pred_test_prob.npy')"
   ]
  },
  {
   "cell_type": "code",
   "execution_count": 25,
   "metadata": {
    "collapsed": false
   },
   "outputs": [],
   "source": [
    "rnn_baseline_pred_val = np.load('rnn_baseline_pred_val.npy')\n",
    "rnn_word_level_pred_val = np.load('rnn_word_level_pred_val.npy')\n",
    "rnn_sentence_level_pred_val = np.load('rnn_sentence_level_pred_val.npy')\n",
    "feature_pred_val = np.load('feature_pred_val.npy')"
   ]
  },
  {
   "cell_type": "markdown",
   "metadata": {},
   "source": [
    "# Similarity"
   ]
  },
  {
   "cell_type": "code",
   "execution_count": 32,
   "metadata": {
    "collapsed": false
   },
   "outputs": [],
   "source": [
    "baseline_same = (rnn_baseline_pred_val == val_label)\n",
    "word_lv_same = (rnn_word_level_pred_val == val_label)\n",
    "sentence_lv_same = (rnn_sentence_level_pred_val == val_label)\n",
    "feature_same = (feature_pred_val == val_label)"
   ]
  },
  {
   "cell_type": "code",
   "execution_count": null,
   "metadata": {
    "collapsed": true
   },
   "outputs": [],
   "source": []
  },
  {
   "cell_type": "code",
   "execution_count": 34,
   "metadata": {
    "collapsed": false
   },
   "outputs": [
    {
     "name": "stdout",
     "output_type": "stream",
     "text": [
      "[[ 0.92738092]]\n",
      "[[ 0.9296385]]\n",
      "[[ 0.89379819]]\n"
     ]
    },
    {
     "name": "stderr",
     "output_type": "stream",
     "text": [
      "C:\\Users\\zcakz\\Anaconda3\\envs\\tensorflow\\lib\\site-packages\\sklearn\\utils\\validation.py:386: DeprecationWarning: Passing 1d arrays as data is deprecated in 0.17 and willraise ValueError in 0.19. Reshape your data either using X.reshape(-1, 1) if your data has a single feature or X.reshape(1, -1) if it contains a single sample.\n",
      "  DeprecationWarning)\n",
      "C:\\Users\\zcakz\\Anaconda3\\envs\\tensorflow\\lib\\site-packages\\sklearn\\utils\\validation.py:386: DeprecationWarning: Passing 1d arrays as data is deprecated in 0.17 and willraise ValueError in 0.19. Reshape your data either using X.reshape(-1, 1) if your data has a single feature or X.reshape(1, -1) if it contains a single sample.\n",
      "  DeprecationWarning)\n",
      "C:\\Users\\zcakz\\Anaconda3\\envs\\tensorflow\\lib\\site-packages\\sklearn\\utils\\validation.py:386: DeprecationWarning: Passing 1d arrays as data is deprecated in 0.17 and willraise ValueError in 0.19. Reshape your data either using X.reshape(-1, 1) if your data has a single feature or X.reshape(1, -1) if it contains a single sample.\n",
      "  DeprecationWarning)\n",
      "C:\\Users\\zcakz\\Anaconda3\\envs\\tensorflow\\lib\\site-packages\\sklearn\\utils\\validation.py:386: DeprecationWarning: Passing 1d arrays as data is deprecated in 0.17 and willraise ValueError in 0.19. Reshape your data either using X.reshape(-1, 1) if your data has a single feature or X.reshape(1, -1) if it contains a single sample.\n",
      "  DeprecationWarning)\n",
      "C:\\Users\\zcakz\\Anaconda3\\envs\\tensorflow\\lib\\site-packages\\sklearn\\utils\\validation.py:386: DeprecationWarning: Passing 1d arrays as data is deprecated in 0.17 and willraise ValueError in 0.19. Reshape your data either using X.reshape(-1, 1) if your data has a single feature or X.reshape(1, -1) if it contains a single sample.\n",
      "  DeprecationWarning)\n",
      "C:\\Users\\zcakz\\Anaconda3\\envs\\tensorflow\\lib\\site-packages\\sklearn\\utils\\validation.py:386: DeprecationWarning: Passing 1d arrays as data is deprecated in 0.17 and willraise ValueError in 0.19. Reshape your data either using X.reshape(-1, 1) if your data has a single feature or X.reshape(1, -1) if it contains a single sample.\n",
      "  DeprecationWarning)\n"
     ]
    }
   ],
   "source": [
    "print(cosine_similarity(rnn_baseline_pred_val_prob,rnn_word_level_pred_val_prob))\n",
    "print(cosine_similarity(rnn_sentence_level_pred_val_prob,rnn_word_level_pred_val_prob))\n",
    "print(cosine_similarity(feature_pred_val_prob ,rnn_word_level_pred_val_prob))"
   ]
  },
  {
   "cell_type": "markdown",
   "metadata": {},
   "source": [
    "# Average Ensemble"
   ]
  },
  {
   "cell_type": "code",
   "execution_count": 3,
   "metadata": {
    "collapsed": true
   },
   "outputs": [],
   "source": [
    "val_predicted_prob  = (rnn_baseline_pred_val_prob + rnn_word_level_pred_val_prob  + \\\n",
    "                        rnn_sentence_level_pred_val_prob  + feature_pred_val_prob)/4 \n",
    "\n",
    "test_predicted_prob  = (rnn_baseline_pred_test_prob + rnn_word_level_pred_test_prob  + \\\n",
    "                        rnn_sentence_level_pred_test_prob  + feature_pred_test_prob)/4\n",
    "\n",
    "val_predicted = [1 if i >0.5 else 0 for i in val_predicted_prob]\n",
    "test_predicted = [1 if i >0.5 else 0 for i in test_predicted_prob]"
   ]
  },
  {
   "cell_type": "code",
   "execution_count": 4,
   "metadata": {
    "collapsed": false
   },
   "outputs": [
    {
     "name": "stdout",
     "output_type": "stream",
     "text": [
      " Dev F1: 0.771208226221  Dev AUC: 0.942170148692\n",
      " Dev F1: 0.781386330587  Dev AUC: 0.869523383415\n"
     ]
    }
   ],
   "source": [
    "val_f1 = f1_score(val_label, val_predicted)\n",
    "val_auc = roc_auc_score(val_label, val_predicted_prob)\n",
    "print(' Dev F1:', val_f1,' Dev AUC:', val_auc)\n",
    "\n",
    "test_f1 = f1_score(test_label, test_predicted)\n",
    "test_auc = roc_auc_score(test_label, test_predicted_prob)\n",
    "print(' Dev F1:', test_f1,' Dev AUC:', test_auc)"
   ]
  },
  {
   "cell_type": "code",
   "execution_count": 5,
   "metadata": {
    "collapsed": false
   },
   "outputs": [
    {
     "name": "stdout",
     "output_type": "stream",
     "text": [
      " Dev F1: 0.764556962025  Dev AUC: 0.93345332204\n",
      " Dev F1: 0.76989869754  Dev AUC: 0.860089996039\n"
     ]
    }
   ],
   "source": [
    "val_predicted_prob  = (rnn_baseline_pred_val_prob + rnn_word_level_pred_val_prob)/2 \n",
    "\n",
    "test_predicted_prob  = (rnn_baseline_pred_test_prob + rnn_word_level_pred_test_prob)/2\n",
    "\n",
    "val_predicted = [1 if i >0.5 else 0 for i in val_predicted_prob]\n",
    "test_predicted = [1 if i >0.5 else 0 for i in test_predicted_prob]\n",
    "                       \n",
    "val_f1 = f1_score(val_label, val_predicted)\n",
    "val_auc = roc_auc_score(val_label, val_predicted_prob)\n",
    "print(' Dev F1:', val_f1,' Dev AUC:', val_auc)\n",
    "                       \n",
    "test_f1 = f1_score(test_label, test_predicted)\n",
    "test_auc = roc_auc_score(test_label, test_predicted_prob)\n",
    "print(' Dev F1:', test_f1,' Dev AUC:', test_auc)"
   ]
  },
  {
   "cell_type": "code",
   "execution_count": 35,
   "metadata": {
    "collapsed": false
   },
   "outputs": [
    {
     "name": "stdout",
     "output_type": "stream",
     "text": [
      " Dev F1: 0.758269720102  Dev AUC: 0.931230001882\n",
      " Dev F1: 0.778554778555  Dev AUC: 0.858587389329\n"
     ]
    }
   ],
   "source": [
    "val_predicted_prob  = (rnn_sentence_level_pred_val_prob + rnn_word_level_pred_val_prob)/2 \n",
    "\n",
    "test_predicted_prob  = (rnn_sentence_level_pred_test_prob + rnn_word_level_pred_test_prob)/2\n",
    "\n",
    "val_predicted = [1 if i >0.5 else 0 for i in val_predicted_prob]\n",
    "test_predicted = [1 if i >0.5 else 0 for i in test_predicted_prob]\n",
    "                       \n",
    "val_f1 = f1_score(val_label, val_predicted)\n",
    "val_auc = roc_auc_score(val_label, val_predicted_prob)\n",
    "print(' Dev F1:', val_f1,' Dev AUC:', val_auc)\n",
    "                       \n",
    "test_f1 = f1_score(test_label, test_predicted)\n",
    "test_auc = roc_auc_score(test_label, test_predicted_prob)\n",
    "print(' Dev F1:', test_f1,' Dev AUC:', test_auc)"
   ]
  },
  {
   "cell_type": "code",
   "execution_count": 6,
   "metadata": {
    "collapsed": false
   },
   "outputs": [
    {
     "name": "stdout",
     "output_type": "stream",
     "text": [
      " Dev F1: 0.783715012723  Dev AUC: 0.942217203087\n",
      " Dev F1: 0.779744346116  Dev AUC: 0.870621072095\n"
     ]
    }
   ],
   "source": [
    "val_predicted_prob  = (feature_pred_val_prob + rnn_word_level_pred_val_prob)/2 \n",
    "\n",
    "test_predicted_prob  = (feature_pred_test_prob + rnn_word_level_pred_test_prob)/2\n",
    "\n",
    "val_predicted = [1 if i >0.5 else 0 for i in val_predicted_prob]\n",
    "test_predicted = [1 if i >0.5 else 0 for i in test_predicted_prob]\n",
    "                       \n",
    "val_f1 = f1_score(val_label, val_predicted)\n",
    "val_auc = roc_auc_score(val_label, val_predicted_prob)\n",
    "print(' Dev F1:', val_f1,' Dev AUC:', val_auc)\n",
    "                       \n",
    "test_f1 = f1_score(test_label, test_predicted)\n",
    "test_auc = roc_auc_score(test_label, test_predicted_prob)\n",
    "print(' Dev F1:', test_f1,' Dev AUC:', test_auc)"
   ]
  },
  {
   "cell_type": "markdown",
   "metadata": {
    "collapsed": true
   },
   "source": [
    "# Selection Ensemble"
   ]
  },
  {
   "cell_type": "markdown",
   "metadata": {},
   "source": [
    "* AUC"
   ]
  },
  {
   "cell_type": "code",
   "execution_count": 45,
   "metadata": {
    "collapsed": false
   },
   "outputs": [],
   "source": [
    "n_initial = 1\n",
    "\n",
    "base_model_lst = [feature_pred_val_prob, rnn_baseline_pred_val_prob, rnn_word_level_pred_val_prob, rnn_sentence_level_pred_val_prob]\n",
    "\n",
    "n_base_model = len(base_model_lst)\n",
    "ratio = 1/10\n",
    "\n",
    "base_model_score = [roc_auc_score(val_label, i) for i in base_model_lst]\n",
    "base_model_lst_sorted = [base_model_lst[i] for i in np.argsort(base_model_score)[::-1]]\n",
    "\n",
    "inital_ensemble_model = base_model_lst_sorted[0]\n",
    "print('inital ensemble model: ', roc_auc_score(val_label,inital_ensemble_model))"
   ]
  },
  {
   "cell_type": "code",
   "execution_count": 47,
   "metadata": {
    "collapsed": true
   },
   "outputs": [],
   "source": [
    "weighting = [0 for _ in range(n_base_model)]\n",
    "\n",
    "for i in np.argsort(base_model_score)[::-1][:n_initial]:\n",
    "    weighting[i] += 1/n_initial\n",
    "weighting = np.array(weighting)"
   ]
  },
  {
   "cell_type": "code",
   "execution_count": 48,
   "metadata": {
    "collapsed": false
   },
   "outputs": [],
   "source": [
    "best_ensemble_model = inital_ensemble_model"
   ]
  },
  {
   "cell_type": "code",
   "execution_count": 72,
   "metadata": {
    "collapsed": false,
    "scrolled": true
   },
   "outputs": [
    {
     "name": "stdout",
     "output_type": "stream",
     "text": [
      "current best ensemble model:  0.944134669678\n",
      "current weighting:  [ 0.42589809  0.15878643  0.3446419   0.07067358]\n",
      "current best ensemble model:  0.943887634105\n",
      "current weighting:  [ 0.38330828  0.14290778  0.31017771  0.16360622]\n",
      "current best ensemble model:  0.943687652927\n",
      "current weighting:  [ 0.44497745  0.12861701  0.27915994  0.1472456 ]\n",
      "current best ensemble model:  0.944017033691\n",
      "current weighting:  [ 0.40047971  0.11575531  0.35124395  0.13252104]\n",
      "current best ensemble model:  0.943805288914\n",
      "current weighting:  [ 0.46043174  0.10417978  0.31611955  0.11926894]\n",
      "current best ensemble model:  0.943969979296\n",
      "current weighting:  [ 0.41438856  0.0937618   0.3845076   0.10734204]\n",
      "current best ensemble model:  0.943875870506\n",
      "current weighting:  [ 0.47294971  0.08438562  0.34605684  0.09660784]\n",
      "current best ensemble model:  0.944193487672\n",
      "current weighting:  [ 0.42565474  0.17594706  0.31145115  0.08694706]\n",
      "current best ensemble model:  0.943993506494\n",
      "current weighting:  [ 0.38308926  0.15835235  0.38030604  0.07825235]\n",
      "current best ensemble model:  0.94402879729\n",
      "current weighting:  [ 0.44478034  0.14251712  0.34227543  0.07042711]\n",
      "current best ensemble model:  0.943946452099\n",
      "current weighting:  [ 0.4003023   0.2282654   0.30804789  0.0633844 ]\n",
      "current best ensemble model:  0.943793525315\n",
      "current weighting:  [ 0.36027207  0.20543886  0.3772431   0.05704596]\n",
      "current best ensemble model:  0.944334650856\n",
      "current weighting:  [ 0.42424486  0.18489498  0.33951879  0.05134137]\n",
      "current best ensemble model:  0.943946452099\n",
      "current weighting:  [ 0.38182038  0.16640548  0.30556691  0.14620723]\n",
      "current best ensemble model:  0.943769998118\n",
      "current weighting:  [ 0.44363834  0.14976493  0.27501022  0.13158651]\n",
      "current best ensemble model:  0.943981742895\n",
      "current weighting:  [ 0.39927451  0.13478844  0.3475092   0.11842786]\n",
      "current best ensemble model:  0.943864106908\n",
      "current weighting:  [ 0.45934706  0.12130959  0.31275828  0.10658507]\n",
      "current best ensemble model:  0.943899397704\n",
      "current weighting:  [ 0.41341235  0.10917864  0.38148245  0.09592656]\n",
      "current best ensemble model:  0.943981742895\n",
      "current weighting:  [ 0.47207112  0.09826077  0.34333421  0.08633391]\n",
      "current best ensemble model:  0.94420525127\n",
      "current weighting:  [ 0.424864    0.18843469  0.30900079  0.07770052]\n",
      "current best ensemble model:  0.943958215697\n",
      "current weighting:  [ 0.3823776   0.16959122  0.37810071  0.06993046]\n",
      "current best ensemble model:  0.944087615283\n",
      "current weighting:  [ 0.44413984  0.1526321   0.34029064  0.06293742]\n",
      "current best ensemble model:  0.943899397704\n",
      "current weighting:  [ 0.39972586  0.13736889  0.30626157  0.15664368]\n",
      "current best ensemble model:  0.943793525315\n",
      "current weighting:  [ 0.45975327  0.123632    0.27563542  0.14097931]\n",
      "current best ensemble model:  0.943852343309\n",
      "current weighting:  [ 0.41377795  0.1112688   0.34807187  0.12688138]\n",
      "current best ensemble model:  0.943887634105\n",
      "current weighting:  [ 0.37240015  0.10014192  0.41326469  0.11419324]\n",
      "current best ensemble model:  0.944064088086\n",
      "current weighting:  [ 0.43516014  0.09012773  0.37193822  0.10277392]\n",
      "current best ensemble model:  0.944134669678\n",
      "current weighting:  [ 0.39164412  0.18111496  0.3347444   0.09249652]\n",
      "current best ensemble model:  0.943993506494\n",
      "current weighting:  [ 0.45247971  0.16300346  0.30126996  0.08324687]\n",
      "current best ensemble model:  0.944005270092\n",
      "current weighting:  [ 0.40723174  0.14670312  0.37114296  0.07492218]\n",
      "current best ensemble model:  0.9439346885\n",
      "current weighting:  [ 0.36650857  0.1320328   0.33402866  0.16742997]\n",
      "current best ensemble model:  0.943722943723\n",
      "current weighting:  [ 0.32985771  0.11882952  0.4006258   0.15068697]\n",
      "current best ensemble model:  0.94402879729\n",
      "current weighting:  [ 0.39687194  0.10694657  0.36056322  0.13561827]\n",
      "current best ensemble model:  0.943887634105\n",
      "current weighting:  [ 0.35718474  0.19625191  0.3245069   0.12205645]\n",
      "current best ensemble model:  0.943911161302\n",
      "current weighting:  [ 0.42146627  0.17662672  0.29205621  0.1098508 ]\n",
      "current best ensemble model:  0.943887634105\n",
      "current weighting:  [ 0.37931964  0.15896405  0.36285059  0.09886572]\n",
      "current best ensemble model:  0.944134669678\n",
      "current weighting:  [ 0.44138768  0.14306765  0.32656553  0.08897915]\n",
      "current best ensemble model:  0.943911161302\n",
      "current weighting:  [ 0.39724891  0.22876088  0.29390897  0.08008123]\n",
      "current best ensemble model:  0.943817052513\n",
      "current weighting:  [ 0.45752402  0.20588479  0.26451808  0.07207311]\n",
      "current best ensemble model:  0.94429936006\n",
      "current weighting:  [ 0.41177162  0.18529631  0.33806627  0.0648658 ]\n",
      "current best ensemble model:  0.943852343309\n",
      "current weighting:  [ 0.47059446  0.16676668  0.30425964  0.05837922]\n",
      "current best ensemble model:  0.943887634105\n",
      "current weighting:  [ 0.42353501  0.15009001  0.37383368  0.0525413 ]\n",
      "current best ensemble model:  0.943981742895\n",
      "current weighting:  [ 0.38118151  0.13508101  0.33645031  0.14728717]\n",
      "current best ensemble model:  0.9439346885\n",
      "current weighting:  [ 0.34306336  0.12157291  0.40280528  0.13255845]\n",
      "current best ensemble model:  0.943922924901\n",
      "current weighting:  [ 0.40875702  0.10941562  0.36252475  0.11930261]\n",
      "current best ensemble model:  0.94384057971\n",
      "current weighting:  [ 0.46788132  0.09847406  0.32627228  0.10737235]\n",
      "current best ensemble model:  0.943958215697\n",
      "current weighting:  [ 0.42109319  0.18862665  0.29364505  0.09663511]\n",
      "current best ensemble model:  0.943875870506\n",
      "current weighting:  [ 0.37898387  0.16976399  0.36428054  0.0869716 ]\n",
      "current best ensemble model:  0.944075851685\n",
      "current weighting:  [ 0.44108548  0.15278759  0.32785249  0.07827444]\n",
      "current best ensemble model:  0.94384057971\n",
      "current weighting:  [ 0.49697693  0.13750883  0.29506724  0.070447  ]\n"
     ]
    }
   ],
   "source": [
    "for i in range(50): \n",
    "    cur_model_score = []\n",
    "    for i in range(n_base_model):\n",
    "        cur_model = (1-ratio)*best_ensemble_model + ratio*base_model_lst[i]\n",
    "        cur_model_score.append(roc_auc_score(val_label,cur_model))\n",
    "\n",
    "    best_ensemble_model = (1-ratio)*best_ensemble_model+ ratio*base_model_lst[np.argsort(cur_model_score)[::-1][0]]\n",
    "    weighting = weighting*(1-ratio)\n",
    "    weighting[np.argsort(cur_model_score)[::-1][0]] += ratio\n",
    "    print('current best ensemble model: ', roc_auc_score(val_label,best_ensemble_model))\n",
    "    print('current weighting: ', weighting)"
   ]
  },
  {
   "cell_type": "code",
   "execution_count": 73,
   "metadata": {
    "collapsed": false
   },
   "outputs": [
    {
     "name": "stdout",
     "output_type": "stream",
     "text": [
      " Dev F1: 0.774869109948  Dev AUC: 0.94384057971\n"
     ]
    }
   ],
   "source": [
    "val_predicted_lst= [feature_pred_val_prob, rnn_baseline_pred_val_prob, rnn_word_level_pred_val_prob, rnn_sentence_level_pred_val_prob]\n",
    "\n",
    "ensembled_val_pred_prob = 0\n",
    "for i in range(len(val_predicted_lst)):\n",
    "    ensembled_val_pred_prob += val_predicted_lst[i]*weighting[i]\n",
    "ensembled_val_pred = [1 if i >0.5 else 0 for i in ensembled_val_pred_prob]\n",
    "\n",
    "selection_ensembled_val_f1 = f1_score(val_label, ensembled_val_pred)\n",
    "selection_ensembled_val_auc = roc_auc_score(val_label, ensembled_val_pred_prob )\n",
    "print(' Val F1:', selection_ensembled_val_f1,' Val AUC:', selection_ensembled_val_auc)"
   ]
  },
  {
   "cell_type": "code",
   "execution_count": 74,
   "metadata": {
    "collapsed": false
   },
   "outputs": [
    {
     "name": "stdout",
     "output_type": "stream",
     "text": [
      " Dev F1: 0.777557100298  Dev AUC: 0.872403513245\n"
     ]
    }
   ],
   "source": [
    "test_predicted_lst= [feature_pred_test_prob, rnn_baseline_pred_test_prob, rnn_word_level_pred_test_prob, rnn_sentence_level_pred_test_prob]\n",
    "\n",
    "ensembled_test_pred_prob = 0\n",
    "for i in range(len(test_predicted_lst)):\n",
    "    ensembled_test_pred_prob += test_predicted_lst[i]*weighting[i]\n",
    "ensembled_test_pred = [1 if i >0.5 else 0 for i in ensembled_test_pred_prob]\n",
    "\n",
    "selection_ensembled_test_f1 = f1_score(test_label, ensembled_test_pred)\n",
    "selection_ensembled_test_auc = roc_auc_score(test_label, ensembled_test_pred_prob )\n",
    "print(' Dev F1:', selection_ensembled_test_f1,' Dev AUC:', selection_ensembled_test_auc)"
   ]
  },
  {
   "cell_type": "markdown",
   "metadata": {},
   "source": [
    "* F1"
   ]
  },
  {
   "cell_type": "code",
   "execution_count": 88,
   "metadata": {
    "collapsed": true
   },
   "outputs": [],
   "source": [
    "n_initial = 1\n",
    "\n",
    "base_model_lst = [feature_pred_val_prob, rnn_baseline_pred_val_prob, rnn_word_level_pred_val_prob, rnn_sentence_level_pred_val_prob]\n",
    "n_base_model = len(base_model_lst)\n",
    "ratio = 1/10\n",
    "\n",
    "base_model_score = [f1_score(val_label,  [1 if j >0.5 else 0 for j in i]) for i in base_model_lst]\n",
    "base_model_lst_sorted = [base_model_lst[i] for i in np.argsort(base_model_score)[::-1]]\n",
    "\n",
    "inital_ensemble_model = base_model_lst_sorted[0]\n",
    "\n",
    "weighting = [0 for _ in range(n_base_model)]\n",
    "\n",
    "for i in np.argsort(base_model_score)[::-1][:n_initial]:\n",
    "    weighting[i] += 1/n_initial\n",
    "weighting = np.array(weighting)\n",
    "\n",
    "best_ensemble_model = inital_ensemble_model"
   ]
  },
  {
   "cell_type": "code",
   "execution_count": 89,
   "metadata": {
    "collapsed": false,
    "scrolled": true
   },
   "outputs": [
    {
     "name": "stdout",
     "output_type": "stream",
     "text": [
      "current best ensemble model:  0.77\n",
      "current weighting:  [ 0.   0.1  0.9  0. ]\n",
      "current best ensemble model:  0.77\n",
      "current weighting:  [ 0.1   0.09  0.81  0.  ]\n",
      "current best ensemble model:  0.773869346734\n",
      "current weighting:  [ 0.19   0.081  0.729  0.   ]\n",
      "current best ensemble model:  0.783715012723\n",
      "current weighting:  [ 0.171   0.0729  0.6561  0.1   ]\n",
      "current best ensemble model:  0.785714285714\n",
      "current weighting:  [ 0.2539   0.06561  0.59049  0.09   ]\n",
      "current best ensemble model:  0.783715012723\n",
      "current weighting:  [ 0.22851   0.059049  0.631441  0.081   ]\n",
      "current best ensemble model:  0.781725888325\n",
      "current weighting:  [ 0.205659   0.0531441  0.6682969  0.0729   ]\n",
      "current best ensemble model:  0.781725888325\n",
      "current weighting:  [ 0.1850931   0.04782969  0.60146721  0.16561   ]\n",
      "current best ensemble model:  0.781725888325\n",
      "current weighting:  [ 0.16658379  0.04304672  0.64132049  0.149049  ]\n",
      "current best ensemble model:  0.783715012723\n",
      "current weighting:  [ 0.24992541  0.03874205  0.57718844  0.1341441 ]\n",
      "current best ensemble model:  0.785714285714\n",
      "current weighting:  [ 0.32493287  0.03486784  0.5194696   0.12072969]\n",
      "current best ensemble model:  0.787723785166\n",
      "current weighting:  [ 0.29243958  0.13138106  0.46752264  0.10865672]\n",
      "current best ensemble model:  0.789743589744\n",
      "current weighting:  [ 0.36319562  0.11824295  0.42077037  0.09779105]\n",
      "current best ensemble model:  0.787723785166\n",
      "current weighting:  [ 0.32687606  0.10641866  0.47869334  0.08801194]\n",
      "current best ensemble model:  0.789743589744\n",
      "current weighting:  [ 0.39418846  0.09577679  0.430824    0.07921075]\n",
      "current best ensemble model:  0.788659793814\n",
      "current weighting:  [ 0.35476961  0.18619911  0.3877416   0.07128967]\n",
      "current best ensemble model:  0.795811518325\n",
      "current weighting:  [ 0.41929265  0.1675792   0.34896744  0.06416071]\n",
      "current best ensemble model:  0.789743589744\n",
      "current weighting:  [ 0.37736338  0.15082128  0.4140707   0.05774464]\n",
      "current best ensemble model:  0.78961038961\n",
      "current weighting:  [ 0.43962705  0.13573915  0.37266363  0.05197017]\n",
      "current best ensemble model:  0.789743589744\n",
      "current weighting:  [ 0.39566434  0.12216524  0.43539726  0.04677316]\n",
      "current best ensemble model:  0.787564766839\n",
      "current weighting:  [ 0.35609791  0.10994871  0.39185754  0.14209584]\n",
      "current best ensemble model:  0.79057591623\n",
      "current weighting:  [ 0.42048812  0.09895384  0.35267178  0.12788626]\n",
      "current best ensemble model:  0.791556728232\n",
      "current weighting:  [ 0.4784393   0.08905846  0.31740461  0.11509763]\n",
      "current best ensemble model:  0.79057591623\n",
      "current weighting:  [ 0.43059537  0.18015261  0.28566415  0.10358787]\n",
      "current best ensemble model:  0.793733681462\n",
      "current weighting:  [ 0.38753584  0.16213735  0.25709773  0.19322908]\n",
      "current best ensemble model:  0.786458333333\n",
      "current weighting:  [ 0.44878225  0.14592362  0.23138796  0.17390617]\n",
      "current best ensemble model:  0.793733681462\n",
      "current weighting:  [ 0.40390403  0.13133125  0.30824916  0.15651556]\n",
      "current best ensemble model:  0.787564766839\n",
      "current weighting:  [ 0.36351363  0.11819813  0.37742425  0.140864  ]\n",
      "current best ensemble model:  0.797900262467\n",
      "current weighting:  [ 0.42716226  0.10637832  0.33968182  0.1267776 ]\n",
      "current best ensemble model:  0.789473684211\n",
      "current weighting:  [ 0.48444604  0.09574048  0.30571364  0.11409984]\n",
      "current best ensemble model:  0.788511749347\n",
      "current weighting:  [ 0.43600143  0.08616644  0.27514228  0.20268986]\n",
      "current best ensemble model:  0.795811518325\n",
      "current weighting:  [ 0.39240129  0.17754979  0.24762805  0.18242087]\n",
      "current best ensemble model:  0.784415584416\n",
      "current weighting:  [ 0.35316116  0.15979481  0.32286524  0.16417878]\n",
      "current best ensemble model:  0.797900262467\n",
      "current weighting:  [ 0.41784504  0.14381533  0.29057872  0.1477609 ]\n",
      "current best ensemble model:  0.785340314136\n",
      "current weighting:  [ 0.47606054  0.1294338   0.26152085  0.13298481]\n",
      "current best ensemble model:  0.795811518325\n",
      "current weighting:  [ 0.42845449  0.11649042  0.33536876  0.11968633]\n",
      "current best ensemble model:  0.788659793814\n",
      "current weighting:  [ 0.38560904  0.10484138  0.40183189  0.1077177 ]\n",
      "current best ensemble model:  0.793733681462\n",
      "current weighting:  [ 0.44704813  0.09435724  0.3616487   0.09694593]\n",
      "current best ensemble model:  0.789743589744\n",
      "current weighting:  [ 0.40234332  0.08492152  0.42548383  0.08725134]\n",
      "current best ensemble model:  0.790697674419\n",
      "current weighting:  [ 0.36210899  0.17642936  0.38293544  0.0785262 ]\n"
     ]
    }
   ],
   "source": [
    "for i in range(40): \n",
    "    cur_model_score = []\n",
    "    for i in range(n_base_model):\n",
    "        cur_model = (1-ratio)*best_ensemble_model + ratio*base_model_lst[i]\n",
    "        cur_model_score.append(f1_score(val_label,[1 if j >0.5 else 0 for j in cur_model]))\n",
    "\n",
    "    best_ensemble_model = (1-ratio)*best_ensemble_model+ ratio*base_model_lst[np.argsort(cur_model_score)[::-1][0]]\n",
    "    weighting = weighting*(1-ratio)\n",
    "    weighting[np.argsort(cur_model_score)[::-1][0]] += ratio\n",
    "    print('current best ensemble model: ', f1_score(val_label,[1 if j >0.5 else 0 for j in best_ensemble_model]))\n",
    "    print('current weighting: ', weighting)"
   ]
  },
  {
   "cell_type": "code",
   "execution_count": 90,
   "metadata": {
    "collapsed": false
   },
   "outputs": [
    {
     "name": "stdout",
     "output_type": "stream",
     "text": [
      " Dev F1: 0.790697674419  Dev AUC: 0.943769998118\n"
     ]
    }
   ],
   "source": [
    "val_predicted_lst= [feature_pred_val_prob, rnn_baseline_pred_val_prob, rnn_word_level_pred_val_prob, rnn_sentence_level_pred_val_prob]\n",
    "\n",
    "ensembled_val_pred_prob = 0\n",
    "for i in range(len(val_predicted_lst)):\n",
    "    ensembled_val_pred_prob += val_predicted_lst[i]*weighting[i]\n",
    "ensembled_val_pred = [1 if i >0.5 else 0 for i in ensembled_val_pred_prob]\n",
    "\n",
    "selection_ensembled_val_f1 = f1_score(val_label, ensembled_val_pred)\n",
    "selection_ensembled_val_auc = roc_auc_score(val_label, ensembled_val_pred_prob )\n",
    "print(' Val F1:', selection_ensembled_val_f1,' Val AUC:', selection_ensembled_val_auc)"
   ]
  },
  {
   "cell_type": "code",
   "execution_count": 91,
   "metadata": {
    "collapsed": false
   },
   "outputs": [
    {
     "name": "stdout",
     "output_type": "stream",
     "text": [
      " Dev F1: 0.784946236559  Dev AUC: 0.873050580276\n"
     ]
    }
   ],
   "source": [
    "test_predicted_lst= [feature_pred_test_prob, rnn_baseline_pred_test_prob, rnn_word_level_pred_test_prob, rnn_sentence_level_pred_test_prob]\n",
    "\n",
    "ensembled_test_pred_prob = 0\n",
    "for i in range(len(test_predicted_lst)):\n",
    "    ensembled_test_pred_prob += test_predicted_lst[i]*weighting[i]\n",
    "ensembled_test_pred = [1 if i >0.5 else 0 for i in ensembled_test_pred_prob]\n",
    "\n",
    "selection_ensembled_test_f1 = f1_score(test_label, ensembled_test_pred)\n",
    "selection_ensembled_test_auc = roc_auc_score(test_label, ensembled_test_pred_prob )\n",
    "print(' Dev F1:', selection_ensembled_test_f1,' Dev AUC:', selection_ensembled_test_auc)"
   ]
  },
  {
   "cell_type": "markdown",
   "metadata": {},
   "source": [
    "# Stacking"
   ]
  },
  {
   "cell_type": "code",
   "execution_count": 117,
   "metadata": {
    "collapsed": true
   },
   "outputs": [],
   "source": [
    "def softmax(x):\n",
    "    e_x = np.exp(x - np.max(x))\n",
    "    return e_x / e_x.sum(axis=0) "
   ]
  },
  {
   "cell_type": "code",
   "execution_count": 118,
   "metadata": {
    "collapsed": false
   },
   "outputs": [],
   "source": [
    "val_predicted = np.stack([feature_pred_val_prob, rnn_baseline_pred_val_prob, rnn_word_level_pred_val_prob, rnn_sentence_level_pred_val_prob],1)\n",
    "test_predicted = np.stack([feature_pred_test_prob, rnn_baseline_pred_test_prob, rnn_word_level_pred_test_prob, rnn_sentence_level_pred_test_prob],1)"
   ]
  },
  {
   "cell_type": "code",
   "execution_count": 158,
   "metadata": {
    "collapsed": false
   },
   "outputs": [
    {
     "name": "stdout",
     "output_type": "stream",
     "text": [
      " Val F1: 0.769230769231  Val AUC: 0.942346602673\n",
      " Test F1: 0.779397473275  Test AUC: 0.870126350462\n"
     ]
    }
   ],
   "source": [
    "clf = linear_model.Ridge(fit_intercept= False, alpha = 0.1)\n",
    "clf.fit(val_predicted, val_label)\n",
    "clf.coef_ = softmax(clf.coef_) \n",
    "val_stacking_pred = clf.predict(val_predicted)\n",
    "test_stacking_pred = clf.predict(test_predicted)\n",
    "\n",
    "stacking_val_f1 = f1_score(val_label, [1 if i >0.5 else 0 for i in val_stacking_pred])\n",
    "stacking_val_auc = roc_auc_score(val_label, val_stacking_pred)\n",
    "print(' Val F1:', stacking_val_f1,' Val AUC:', stacking_val_auc)\n",
    "\n",
    "stacking_test_f1 = f1_score(test_label, [1 if i >0.5 else 0 for i in test_stacking_pred])\n",
    "stacking_test_auc = roc_auc_score(test_label, test_stacking_pred)\n",
    "print(' Test F1:', stacking_test_f1,' Test AUC:', stacking_test_auc)"
   ]
  },
  {
   "cell_type": "code",
   "execution_count": 156,
   "metadata": {
    "collapsed": false
   },
   "outputs": [
    {
     "name": "stdout",
     "output_type": "stream",
     "text": [
      " Val F1: 0.75  Val AUC: 0.941887822323\n",
      " Test F1: 0.791347453808  Test AUC: 0.869148132646\n"
     ]
    }
   ],
   "source": [
    "clf = linear_model.ElasticNet(alpha=0.1)\n",
    "clf.fit(val_predicted, val_label)\n",
    "clf.coef_ = softmax(clf.coef_) \n",
    "val_stacking_pred = clf.predict(val_predicted)\n",
    "test_stacking_pred = clf.predict(test_predicted)\n",
    "\n",
    "stacking_val_f1 = f1_score(val_label, [1 if i >0.5 else 0 for i in val_stacking_pred])\n",
    "stacking_val_auc = roc_auc_score(val_label, val_stacking_pred)\n",
    "print(' Val F1:', stacking_val_f1,' Val AUC:', stacking_val_auc)\n",
    "\n",
    "stacking_test_f1 = f1_score(test_label, [1 if i >0.5 else 0 for i in test_stacking_pred])\n",
    "stacking_test_auc = roc_auc_score(test_label, test_stacking_pred)\n",
    "print(' Test F1:', stacking_test_f1,' Test AUC:', stacking_test_auc)"
   ]
  },
  {
   "cell_type": "code",
   "execution_count": 151,
   "metadata": {
    "collapsed": false
   },
   "outputs": [
    {
     "name": "stdout",
     "output_type": "stream",
     "text": [
      " Val F1: 0.781491002571  Val AUC: 0.943981742895\n",
      " Test F1: 0.78239608802  Test AUC: 0.872706600404\n"
     ]
    }
   ],
   "source": [
    "clf = linear_model.LogisticRegression(tol=1e-8, penalty='l2', C=5, class_weight = 'balanced')\n",
    "clf.fit(val_predicted, val_label)\n",
    "val_stacking_pred = clf.predict(val_predicted)\n",
    "val_stacking_pred_prob = clf.predict_proba(val_predicted)[:,1]\n",
    "test_stacking_pred = clf.predict(test_predicted)\n",
    "test_stacking_pred_prob = clf.predict_proba(test_predicted)[:,1]\n",
    "\n",
    "stacking_val_f1 = f1_score(val_label, [1 if i >0.5 else 0 for i in val_stacking_pred])\n",
    "stacking_val_auc = roc_auc_score(val_label, val_stacking_pred_prob)\n",
    "print(' Val F1:', stacking_val_f1,' Val AUC:', stacking_val_auc)\n",
    "\n",
    "stacking_test_f1 = f1_score(test_label, [1 if i >0.5 else 0 for i in test_stacking_pred])\n",
    "stacking_test_auc = roc_auc_score(test_label, test_stacking_pred_prob)\n",
    "print(' Test F1:', stacking_test_f1,' Test AUC:', stacking_test_auc)"
   ]
  },
  {
   "cell_type": "code",
   "execution_count": 157,
   "metadata": {
    "collapsed": false
   },
   "outputs": [
    {
     "data": {
      "text/plain": [
       "659"
      ]
     },
     "execution_count": 157,
     "metadata": {},
     "output_type": "execute_result"
    }
   ],
   "source": [
    "len(val_stacking_pred_prob )"
   ]
  },
  {
   "cell_type": "code",
   "execution_count": null,
   "metadata": {
    "collapsed": true
   },
   "outputs": [],
   "source": []
  }
 ],
 "metadata": {
  "kernelspec": {
   "display_name": "tensorflow",
   "language": "python",
   "name": "tensorflow"
  },
  "language_info": {
   "codemirror_mode": {
    "name": "ipython",
    "version": 3
   },
   "file_extension": ".py",
   "mimetype": "text/x-python",
   "name": "python",
   "nbconvert_exporter": "python",
   "pygments_lexer": "ipython3",
   "version": "3.5.2"
  }
 },
 "nbformat": 4,
 "nbformat_minor": 2
}
